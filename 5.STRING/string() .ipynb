{
 "cells": [
  {
   "cell_type": "code",
   "execution_count": 3,
   "id": "794cc3d5",
   "metadata": {},
   "outputs": [
    {
     "name": "stdout",
     "output_type": "stream",
     "text": [
      "The Indian Goverment\n",
      "THE INDIAN GOVERMENT\n",
      "THE INDIAN GOVERMENT\n",
      "the indian goverment\n",
      "The indian goverment\n"
     ]
    }
   ],
   "source": [
    "# name = \"the indian goverment\"\n",
    "# u = name.upper()\n",
    "# l = name.lower()\n",
    "# t = name.capitalize()\n",
    "# s = name.swapcase()\n",
    "# tl =name.title()\n",
    "# print(tl)\n",
    "# print(s)\n",
    "# print(u)\n",
    "# print(l)\n",
    "# print(t)"
   ]
  },
  {
   "cell_type": "code",
   "execution_count": 1,
   "id": "dfbe6205",
   "metadata": {},
   "outputs": [
    {
     "name": "stdout",
     "output_type": "stream",
     "text": [
      "The letter 'o' is in the string\n"
     ]
    }
   ],
   "source": [
    "# my_string = \"Hello, world!\"\n",
    "# # Accessing characters\n",
    "# first_char = my_string[0]  # 'H'\n",
    "# last_char = my_string[-1]  # '!'\n",
    "# # Slicing\n",
    "# substring = my_string[7:12]  # \"world\"\n",
    "# # String concatenation\n",
    "# full_name = \"Alice \" + \"Bob\"\n",
    "# # String formatting with f-strings\n",
    "# age = 30\n",
    "# message = f\"My name is {full_name} and I am {age} years old.\"\n",
    "# # Checking for characters\n",
    "# if \"o\" in my_string:\n",
    "#     print(\"The letter 'o' is in the string\")\n",
    "    "
   ]
  },
  {
   "cell_type": "code",
   "execution_count": 3,
   "id": "53589ef3",
   "metadata": {},
   "outputs": [
    {
     "name": "stdout",
     "output_type": "stream",
     "text": [
      "hello world\n"
     ]
    }
   ],
   "source": [
    "# print(\"hello\"+\" \"+\"world\")"
   ]
  },
  {
   "cell_type": "markdown",
   "id": "25d35f7b",
   "metadata": {},
   "source": [
    "# Basic Operations:"
   ]
  },
  {
   "cell_type": "code",
   "execution_count": 12,
   "id": "0a862a68",
   "metadata": {},
   "outputs": [
    {
     "data": {
      "text/plain": [
       "'Akash Panwar'"
      ]
     },
     "execution_count": 12,
     "metadata": {},
     "output_type": "execute_result"
    }
   ],
   "source": [
    "# strr =\"akash PanwaR\"\n",
    "# strr.capitalize() #'Akash panwar'\n",
    "# strr.lower()#'akash panwar'\n",
    "# strr.upper()#'AKASH PANWAR'\n",
    "# strr.swapcase()#'AKASH pANWAr'\n",
    "# strr.title()#'Akash Panwar'"
   ]
  },
  {
   "cell_type": "markdown",
   "id": "626a0535",
   "metadata": {},
   "source": [
    "# 2. Searching: \n"
   ]
  },
  {
   "cell_type": "code",
   "execution_count": 26,
   "id": "cde081ed",
   "metadata": {},
   "outputs": [
    {
     "data": {
      "text/plain": [
       "2"
      ]
     },
     "execution_count": 26,
     "metadata": {},
     "output_type": "execute_result"
    }
   ],
   "source": [
    "# strr =\"hello, this side akash panwar\"\n",
    "# strr.count(\"i\")#2\n",
    "# strr.find(\"i\")#find the indexing without giving error (9)\n",
    "# strr.rfind(\"a\")#find the reverse indexing \n",
    "# strr.index(\"a\")# same as the find but giving error if not found(17)\n",
    "# strr.rindex(\"a\")#(27 find the reverse indexing)"
   ]
  },
  {
   "cell_type": "markdown",
   "id": "04f02ec5",
   "metadata": {},
   "source": [
    "# 2. Formatting \n"
   ]
  },
  {
   "cell_type": "code",
   "execution_count": 32,
   "id": "88b9c7b0",
   "metadata": {},
   "outputs": [
    {
     "data": {
      "text/plain": [
       "'hello Akash'"
      ]
     },
     "execution_count": 32,
     "metadata": {},
     "output_type": "execute_result"
    }
   ],
   "source": [
    "# strr =\"       hello Akash     \"\n",
    "# strr.lstrip()\n",
    "# strr.rstrip()\n",
    "# strr.strip()"
   ]
  },
  {
   "cell_type": "markdown",
   "id": "95fd1611",
   "metadata": {},
   "source": [
    "# 4. Splitting and Joining:DUT\n"
   ]
  },
  {
   "cell_type": "code",
   "execution_count": 47,
   "id": "a6af5aad",
   "metadata": {},
   "outputs": [
    {
     "data": {
      "text/plain": [
       "'applehello worldJhello worldH'"
      ]
     },
     "execution_count": 47,
     "metadata": {},
     "output_type": "execute_result"
    }
   ],
   "source": [
    "# strr = \"hello world\"\n",
    "# tup = (\"apple\",\"J\",\"H\")\n",
    "# print(strr.split(\"l\"))#['he', '', 'o wor', 'd']\n",
    "# print(strr.rsplit(\"l\"))#['he', '', 'o wor', 'd']\n",
    "# strr.join(tup)"
   ]
  },
  {
   "cell_type": "markdown",
   "id": "fc1bee55",
   "metadata": {},
   "source": [
    "# 5 Modification:\n"
   ]
  },
  {
   "cell_type": "code",
   "execution_count": 69,
   "id": "58869c7b",
   "metadata": {},
   "outputs": [
    {
     "data": {
      "text/plain": [
       "'     Hello AkasH    '"
      ]
     },
     "execution_count": 69,
     "metadata": {},
     "output_type": "execute_result"
    }
   ],
   "source": [
    "# strr =\"     hello Akash    \"\n",
    "# strr.strip()#'hello Akash'\n",
    "# strr.lstrip()#'hello Akash    '\n",
    "# strr.rstrip()#'     hello Akash'\n",
    "# strr.replace(\"h\",\"H\")#'     Hello AkasH    '"
   ]
  },
  {
   "cell_type": "code",
   "execution_count": 8,
   "id": "3a60fba7",
   "metadata": {},
   "outputs": [
    {
     "name": "stdout",
     "output_type": "stream",
     "text": [
      "olleh\n"
     ]
    }
   ],
   "source": [
    "i = \"hello\"\n",
    "print(i[len(i):-6:-1])"
   ]
  },
  {
   "cell_type": "code",
   "execution_count": null,
   "id": "b0c5e478",
   "metadata": {},
   "outputs": [],
   "source": []
  }
 ],
 "metadata": {
  "kernelspec": {
   "display_name": "Python 3 (ipykernel)",
   "language": "python",
   "name": "python3"
  },
  "language_info": {
   "codemirror_mode": {
    "name": "ipython",
    "version": 3
   },
   "file_extension": ".py",
   "mimetype": "text/x-python",
   "name": "python",
   "nbconvert_exporter": "python",
   "pygments_lexer": "ipython3",
   "version": "3.11.5"
  }
 },
 "nbformat": 4,
 "nbformat_minor": 5
}
