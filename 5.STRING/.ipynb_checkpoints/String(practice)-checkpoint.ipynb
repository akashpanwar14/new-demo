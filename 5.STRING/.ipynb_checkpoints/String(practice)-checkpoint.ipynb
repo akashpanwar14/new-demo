{
 "cells": [
  {
   "cell_type": "markdown",
   "id": "81108e56",
   "metadata": {},
   "source": [
    "# Extract the first three characters from the string \"Python\".\n"
   ]
  },
  {
   "cell_type": "code",
   "execution_count": 9,
   "id": "33487d33",
   "metadata": {},
   "outputs": [
    {
     "name": "stdout",
     "output_type": "stream",
     "text": [
      "pyt\n"
     ]
    }
   ],
   "source": [
    "q# strr = \"python\"\n",
    "# print(strr[:3])"
   ]
  },
  {
   "cell_type": "markdown",
   "id": "323c3b38",
   "metadata": {},
   "source": [
    "# Extract the last two characters from the string \"Programming\"."
   ]
  },
  {
   "cell_type": "code",
   "execution_count": 26,
   "id": "0b7eef7f",
   "metadata": {},
   "outputs": [
    {
     "name": "stdout",
     "output_type": "stream",
     "text": [
      "ng\n"
     ]
    }
   ],
   "source": [
    "# strr = \"Programming\"\n",
    "# print(strr[-2:])"
   ]
  },
  {
   "cell_type": "markdown",
   "id": "d5b13415",
   "metadata": {},
   "source": [
    "# Extract characters from index 2 to index 5 (inclusive) from the string \"HelloWorld\"."
   ]
  },
  {
   "cell_type": "code",
   "execution_count": 28,
   "id": "5d45b44a",
   "metadata": {},
   "outputs": [
    {
     "name": "stdout",
     "output_type": "stream",
     "text": [
      "llow\n"
     ]
    }
   ],
   "source": [
    "# strr = \"HElloworld\"\n",
    "# print(strr[2:6])"
   ]
  },
  {
   "cell_type": "markdown",
   "id": "c9e4f2c1",
   "metadata": {},
   "source": [
    "# Extract every second character from the string \"Education\"."
   ]
  },
  {
   "cell_type": "code",
   "execution_count": 33,
   "id": "d85434e9",
   "metadata": {},
   "outputs": [
    {
     "name": "stdout",
     "output_type": "stream",
     "text": [
      "dcto\n"
     ]
    }
   ],
   "source": [
    "# strr = \"Education\"\n",
    "# print(strr[1::2])"
   ]
  },
  {
   "cell_type": "markdown",
   "id": "46508217",
   "metadata": {},
   "source": [
    "# Reverse the string \"Hello\" using slicing."
   ]
  },
  {
   "cell_type": "code",
   "execution_count": 37,
   "id": "1fd8a86f",
   "metadata": {},
   "outputs": [
    {
     "name": "stdout",
     "output_type": "stream",
     "text": [
      "olleH\n"
     ]
    }
   ],
   "source": [
    "# strr = \"Hello\"\n",
    "# print(strr[::-1])"
   ]
  },
  {
   "cell_type": "markdown",
   "id": "b6274fdc",
   "metadata": {},
   "source": [
    "# Create a new string with the first and last characters of the string \"JavaScript\"."
   ]
  },
  {
   "cell_type": "code",
   "execution_count": 45,
   "id": "68846a34",
   "metadata": {},
   "outputs": [
    {
     "name": "stdout",
     "output_type": "stream",
     "text": [
      "Jt\n"
     ]
    }
   ],
   "source": [
    "# strr =\"JavaScript\"\n",
    "# strr2 = strr[0]+strr[-1]\n",
    "# print(strr2)"
   ]
  },
  {
   "cell_type": "markdown",
   "id": "d5649cdf",
   "metadata": {},
   "source": [
    "# Check if the string \"Python\" is a substring of the string \"I love Python programming\"."
   ]
  },
  {
   "cell_type": "code",
   "execution_count": 50,
   "id": "82d11bf4",
   "metadata": {},
   "outputs": [
    {
     "name": "stdout",
     "output_type": "stream",
     "text": [
      "yes\n"
     ]
    }
   ],
   "source": [
    "# strr = \"I love Python programing\"\n",
    "# if \"Python\" in strr:\n",
    "#     print(\"yes\")\n",
    "# else:\n",
    "#     print(\"no\")"
   ]
  },
  {
   "cell_type": "markdown",
   "id": "a73ef8c0",
   "metadata": {},
   "source": [
    "# Split the string \"Welcome to Python\" into a list of words."
   ]
  },
  {
   "cell_type": "code",
   "execution_count": 51,
   "id": "0ea90d8e",
   "metadata": {},
   "outputs": [
    {
     "data": {
      "text/plain": [
       "['welcome', 'to', 'Python']"
      ]
     },
     "execution_count": 51,
     "metadata": {},
     "output_type": "execute_result"
    }
   ],
   "source": [
    "# strr=\"welcome to Python\"\n",
    "# strr.split(\" \")"
   ]
  },
  {
   "cell_type": "markdown",
   "id": "b4504d97",
   "metadata": {},
   "source": [
    "# Replace all occurrences of the letter \"o\" with the letter \"a\" in the string \"Coding is fun\"."
   ]
  },
  {
   "cell_type": "code",
   "execution_count": 52,
   "id": "cee69d35",
   "metadata": {},
   "outputs": [
    {
     "data": {
      "text/plain": [
       "'Cading is fun'"
      ]
     },
     "execution_count": 52,
     "metadata": {},
     "output_type": "execute_result"
    }
   ],
   "source": [
    "# strr = \"Coding is fun\"\n",
    "# strr.replace(\"o\",\"a\")"
   ]
  },
  {
   "cell_type": "markdown",
   "id": "4726a75b",
   "metadata": {},
   "source": [
    "# Create a new string by interleaving the characters of two strings, \"Python\" and \"Programming\", like \"Pyrgomamrnoitnhgan\"."
   ]
  },
  {
   "cell_type": "code",
   "execution_count": 56,
   "id": "bdc8e742",
   "metadata": {},
   "outputs": [],
   "source": [
    "# not done"
   ]
  },
  {
   "cell_type": "markdown",
   "id": "a5280c02",
   "metadata": {},
   "source": [
    "# Extract the middle three characters from the string \"HelloWorld\"."
   ]
  },
  {
   "cell_type": "code",
   "execution_count": 70,
   "id": "94730b7d",
   "metadata": {},
   "outputs": [
    {
     "name": "stdout",
     "output_type": "stream",
     "text": [
      "loW\n"
     ]
    }
   ],
   "source": [
    "# strr = \"HelloWorld\"\n",
    "# if len(strr)%2==0:\n",
    "#     x =len(strr)//2-2\n",
    "#     y=len(strr)//2+1\n",
    "#     print(strr[x:y])\n",
    "# else:\n",
    "#     x =len(strr)//2-1\n",
    "#     y=len(strr)//2+2\n",
    "#     print(strr[x:y])"
   ]
  },
  {
   "cell_type": "markdown",
   "id": "3ce7d105",
   "metadata": {},
   "source": [
    "# Print a string in reverse order, one character per line."
   ]
  },
  {
   "cell_type": "code",
   "execution_count": 87,
   "id": "944aa343",
   "metadata": {},
   "outputs": [
    {
     "name": "stdout",
     "output_type": "stream",
     "text": [
      "5\n",
      "4\n",
      "3\n",
      "2\n",
      "1\n"
     ]
    }
   ],
   "source": [
    "# strr=\"12345\"\n",
    "# for i in strr[::-1]:\n",
    "#     print(i)"
   ]
  },
  {
   "cell_type": "markdown",
   "id": "433b9edf",
   "metadata": {},
   "source": [
    "# Extract the first and last two characters of each word in the string \"Python Programming\"."
   ]
  },
  {
   "cell_type": "code",
   "execution_count": 96,
   "id": "ef8b7e16",
   "metadata": {},
   "outputs": [
    {
     "name": "stdout",
     "output_type": "stream",
     "text": [
      "['PythonProgramming']\n"
     ]
    }
   ],
   "source": [
    "# strr = \"PythonProgramming\"\n",
    "# x = strr.split()\n",
    "# print(x)\n"
   ]
  },
  {
   "cell_type": "markdown",
   "id": "eea9d16f",
   "metadata": {},
   "source": [
    "# Check if a string is a palindrome (reads the same backward as forward) using slicing."
   ]
  },
  {
   "cell_type": "code",
   "execution_count": 108,
   "id": "edf6349f",
   "metadata": {},
   "outputs": [
    {
     "name": "stdout",
     "output_type": "stream",
     "text": [
      "it is palindrome\n"
     ]
    }
   ],
   "source": [
    "# strr = \"NayaN\"\n",
    "# if strr == strr[::-1]:\n",
    "#     print(\"it is palindrome\")\n",
    "# else:\n",
    "#     print(\"it is not a palindrome\")"
   ]
  },
  {
   "cell_type": "markdown",
   "id": "02893b7f",
   "metadata": {},
   "source": [
    "# Create a list of all unique characters in a string, preserving their order of appearance."
   ]
  },
  {
   "cell_type": "code",
   "execution_count": 133,
   "id": "4f15a13f",
   "metadata": {},
   "outputs": [
    {
     "name": "stdout",
     "output_type": "stream",
     "text": [
      "['p', 'y', 't', 'h', 'o', 'n', ' ', 'P', 'r', 'g', 'a', 'm', 'i']\n"
     ]
    }
   ],
   "source": [
    "strr =\"python Programing\"\n",
    "unique =[]\n",
    "for i in strr:\n",
    "    if i not in unique:\n",
    "        unique.append(i)\n",
    "print(unique)"
   ]
  },
  {
   "cell_type": "code",
   "execution_count": null,
   "id": "4a57652d",
   "metadata": {},
   "outputs": [],
   "source": []
  }
 ],
 "metadata": {
  "kernelspec": {
   "display_name": "Python 3 (ipykernel)",
   "language": "python",
   "name": "python3"
  },
  "language_info": {
   "codemirror_mode": {
    "name": "ipython",
    "version": 3
   },
   "file_extension": ".py",
   "mimetype": "text/x-python",
   "name": "python",
   "nbconvert_exporter": "python",
   "pygments_lexer": "ipython3",
   "version": "3.11.5"
  }
 },
 "nbformat": 4,
 "nbformat_minor": 5
}
