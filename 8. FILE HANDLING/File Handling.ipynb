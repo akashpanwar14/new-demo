{
 "cells": [
  {
   "cell_type": "code",
   "execution_count": 21,
   "id": "7069bb50",
   "metadata": {
    "scrolled": true
   },
   "outputs": [],
   "source": [
    "# video=open(\"C://Users//Asus//OneDrive//Desktop//Video//videoplayback.mp4\",\"rb\")"
   ]
  },
  {
   "cell_type": "code",
   "execution_count": 22,
   "id": "916e46ff",
   "metadata": {},
   "outputs": [],
   "source": [
    "# new_video=open(\"C://Users//Asus//OneDrive//Desktop//Video//videoplaybacknew.mp4\",\"wb\")"
   ]
  },
  {
   "cell_type": "code",
   "execution_count": 23,
   "id": "a92760db",
   "metadata": {},
   "outputs": [],
   "source": [
    "# f = video.readlines()\n",
    "# new_video.writelines(f)\n",
    "# video.close()\n",
    "# new_video.close()"
   ]
  },
  {
   "cell_type": "code",
   "execution_count": null,
   "id": "31dfb9f3",
   "metadata": {},
   "outputs": [],
   "source": []
  },
  {
   "cell_type": "code",
   "execution_count": null,
   "id": "aafaae9d",
   "metadata": {},
   "outputs": [],
   "source": []
  },
  {
   "cell_type": "code",
   "execution_count": null,
   "id": "7e6379f7",
   "metadata": {},
   "outputs": [],
   "source": []
  }
 ],
 "metadata": {
  "kernelspec": {
   "display_name": "Python 3 (ipykernel)",
   "language": "python",
   "name": "python3"
  },
  "language_info": {
   "codemirror_mode": {
    "name": "ipython",
    "version": 3
   },
   "file_extension": ".py",
   "mimetype": "text/x-python",
   "name": "python",
   "nbconvert_exporter": "python",
   "pygments_lexer": "ipython3",
   "version": "3.11.5"
  }
 },
 "nbformat": 4,
 "nbformat_minor": 5
}
