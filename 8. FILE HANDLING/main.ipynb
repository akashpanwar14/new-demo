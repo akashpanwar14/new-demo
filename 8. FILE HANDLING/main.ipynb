{
 "cells": [
  {
   "cell_type": "code",
   "execution_count": 15,
   "id": "31ed6aa5",
   "metadata": {},
   "outputs": [
    {
     "data": {
      "text/plain": [
       "'hello my name is akash panwar\\nthis is my first file handling case \\nso first we need to start a file handling cases'"
      ]
     },
     "execution_count": 15,
     "metadata": {},
     "output_type": "execute_result"
    }
   ],
   "source": [
    "f=open(\"NEW.txt\")\n",
    "f.read()"
   ]
  },
  {
   "cell_type": "code",
   "execution_count": 16,
   "id": "06abb5f5",
   "metadata": {},
   "outputs": [],
   "source": [
    "f=open(\"NEW.txt\",\"w\")\n",
    "f.write(\"python is important for interviws\")\n",
    "f.close()"
   ]
  },
  {
   "cell_type": "code",
   "execution_count": 17,
   "id": "1c0701be",
   "metadata": {},
   "outputs": [
    {
     "data": {
      "text/plain": [
       "'python is important for interviws'"
      ]
     },
     "execution_count": 17,
     "metadata": {},
     "output_type": "execute_result"
    }
   ],
   "source": [
    "f=open(\"NEW.txt\")\n",
    "f.read()"
   ]
  },
  {
   "cell_type": "code",
   "execution_count": null,
   "id": "6ff0211b",
   "metadata": {},
   "outputs": [],
   "source": [
    "# # %%\n",
    "# # Open a file\n",
    "# abc = open(\"C:\\\\Users\\\\M H K\\\\Desktop\\\\Classes\\\\Python\\\\Batch 14.00\\\\abc.txt\",\"r\")\n",
    "# # check = abc.write(\"Ducks are sometimes confused with several types of unrelated water birds with similar forms, such as loons or divers, grebes, gallinules and coots.\")\n",
    "# data = abc.read()\n",
    "# print(data)\n",
    "# # print(check)\n",
    "# abc.close()\n",
    "# # Character - Create \"x\", Write \"w\", Append \"a\" , Read \"r\"\n",
    "# # Byte - Create \"x\", Write \"wb\", Read \"rb\"\n",
    "# # %%\n",
    "# try:\n",
    "#     doraemonimg = open(\"C:\\\\Users\\\\M H K\\\\Desktop\\\\Classes\\\\Node.JS\\\\download.png\",\"rb\")\n",
    "#     newimg = open(\"C:\\\\Users\\\\M H K\\\\Desktop\\\\Classes\\\\Python\\\\Batch 14.00\\\\xyz.png\",\"wb\")\n",
    "#     data = doraemonimg.readlines()\n",
    "#     for i in data:\n",
    "#         print(data)\n",
    "#     # newimg.writelines(data)\n",
    "#     doraemonimg.close()\n",
    "#     newimg.close()\n",
    "\n",
    "\n",
    "# except FileExistsError:\n",
    "#     print(\"File already exists!!!!\")\n",
    "# except FileNotFoundError:\n",
    "#     print(\"File Not found!!! Check the path\")\n",
    "\n",
    "\n",
    "# # %%\n",
    "# vdo = open(\"C:\\\\Users\\\\M H K\\\\Desktop\\\\Classes\\\\Node.JS\\\\vdo.mp4\",\"r+\")\n",
    "# newvdo = open(\"C:\\\\Users\\\\M H K\\\\Desktop\\\\Classes\\\\Python\\\\Batch 14.00\\\\xyz.mp4\",\"wb\")\n",
    "\n",
    "\n",
    "# data = vdo.readlines()\n",
    "# newvdo.writelines(data)\n",
    "# newvdo.close()\n",
    "# vdo.close()\n"
   ]
  },
  {
   "cell_type": "code",
   "execution_count": null,
   "id": "7ebef05c",
   "metadata": {},
   "outputs": [],
   "source": []
  },
  {
   "cell_type": "code",
   "execution_count": null,
   "id": "e36fa805",
   "metadata": {},
   "outputs": [],
   "source": []
  },
  {
   "cell_type": "code",
   "execution_count": null,
   "id": "2d482d7c",
   "metadata": {},
   "outputs": [],
   "source": []
  },
  {
   "cell_type": "code",
   "execution_count": null,
   "id": "86fcd095",
   "metadata": {},
   "outputs": [],
   "source": []
  },
  {
   "cell_type": "code",
   "execution_count": null,
   "id": "622c1d40",
   "metadata": {},
   "outputs": [],
   "source": []
  }
 ],
 "metadata": {
  "kernelspec": {
   "display_name": "Python 3 (ipykernel)",
   "language": "python",
   "name": "python3"
  },
  "language_info": {
   "codemirror_mode": {
    "name": "ipython",
    "version": 3
   },
   "file_extension": ".py",
   "mimetype": "text/x-python",
   "name": "python",
   "nbconvert_exporter": "python",
   "pygments_lexer": "ipython3",
   "version": "3.11.5"
  }
 },
 "nbformat": 4,
 "nbformat_minor": 5
}
