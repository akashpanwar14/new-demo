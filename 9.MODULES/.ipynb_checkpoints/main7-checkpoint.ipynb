{
 "cells": [
  {
   "cell_type": "code",
   "execution_count": 5,
   "id": "d67f6d1c-4584-4176-8237-d2d40fb40a6a",
   "metadata": {},
   "outputs": [],
   "source": [
    "# # creating a floder using os module\n",
    "# import os\n",
    "# i=1\n",
    "# while i<26:\n",
    "#     os.mkdir(f\"C:\\\\Users\\\\Asus\\\\OneDrive\\\\Desktop\\\\Projects X\\\\chapter's{i}\")\n",
    "#     i+=1"
   ]
  },
  {
   "cell_type": "code",
   "execution_count": 2,
   "id": "a22becc6-15c9-4119-a3f5-5e04baf4d5aa",
   "metadata": {},
   "outputs": [
    {
     "data": {
      "text/plain": [
       "[1, 4, 9, 16, 25, 36]"
      ]
     },
     "execution_count": 2,
     "metadata": {},
     "output_type": "execute_result"
    }
   ],
   "source": [
    "num =[1,2,3,4,5,6]\n",
    "new_num=list(map(lambda x:x**2,num))\n",
    "new_num"
   ]
  },
  {
   "cell_type": "code",
   "execution_count": 3,
   "id": "ec92a059-9d30-4bb8-88bf-9cc11c804919",
   "metadata": {},
   "outputs": [
    {
     "data": {
      "text/plain": [
       "[6, 8, 10, 12, 14, 18, 16]"
      ]
     },
     "execution_count": 3,
     "metadata": {},
     "output_type": "execute_result"
    }
   ],
   "source": [
    "sum_new=[3,4,5,6,7,9,8]\n",
    "sum__=list(map(lambda x:x+x,sum_new))\n",
    "sum__"
   ]
  },
  {
   "cell_type": "code",
   "execution_count": 6,
   "id": "12b39e96-c424-4d8a-8ade-0f21f168e3eb",
   "metadata": {},
   "outputs": [
    {
     "data": {
      "text/plain": [
       "[2, 4, 6, 8]"
      ]
     },
     "execution_count": 6,
     "metadata": {},
     "output_type": "execute_result"
    }
   ],
   "source": [
    "#filter\n",
    "num =[1,2,3,4,5,6,7,8,9,]\n",
    "even = list(filter(lambda x:x%2==0,num))\n",
    "even\n"
   ]
  },
  {
   "cell_type": "code",
   "execution_count": 13,
   "id": "1bf857c5-471b-40de-8847-712b6bdcd777",
   "metadata": {},
   "outputs": [
    {
     "data": {
      "text/plain": [
       "['java', 'ruby', 'dart']"
      ]
     },
     "execution_count": 13,
     "metadata": {},
     "output_type": "execute_result"
    }
   ],
   "source": [
    "words=[\"python\",\"java\",\"ruby\",\"r\",'dart']\n",
    "new_words=list(filter(lambda x:len(x)==4,words))\n",
    "new_words\n"
   ]
  },
  {
   "cell_type": "code",
   "execution_count": 16,
   "id": "db6e1dd5-f41e-4b69-b658-95f78e86328f",
   "metadata": {},
   "outputs": [],
   "source": [
    "#reduce\n",
    "num=[1,2,3,4,5]\n",
    "from functools import reduce"
   ]
  },
  {
   "cell_type": "code",
   "execution_count": 19,
   "id": "63e12dd4-112c-482b-a2dc-86a5e70569a1",
   "metadata": {},
   "outputs": [
    {
     "data": {
      "text/plain": [
       "15"
      ]
     },
     "execution_count": 19,
     "metadata": {},
     "output_type": "execute_result"
    }
   ],
   "source": [
    "sum = reduce(lambda x,y:x+y,num)\n",
    "sum"
   ]
  },
  {
   "cell_type": "code",
   "execution_count": 20,
   "id": "2820a259-ae20-42ff-8537-5b60acda77ec",
   "metadata": {},
   "outputs": [
    {
     "data": {
      "text/plain": [
       "120"
      ]
     },
     "execution_count": 20,
     "metadata": {},
     "output_type": "execute_result"
    }
   ],
   "source": [
    "product = reduce(lambda x,y:x*y,num)\n",
    "product"
   ]
  },
  {
   "cell_type": "code",
   "execution_count": 28,
   "id": "c3a60c41-36f9-4714-be3e-ad77a570beaa",
   "metadata": {},
   "outputs": [
    {
     "name": "stdout",
     "output_type": "stream",
     "text": [
      "No Python documentation found for 'builtin'.\n",
      "Use help() to get the interactive help utility.\n",
      "Use help(str) for help on the str class.\n",
      "\n"
     ]
    }
   ],
   "source": [
    "help(\"builtin\")"
   ]
  },
  {
   "cell_type": "code",
   "execution_count": 30,
   "id": "87003b82-1018-4782-9ca3-38e09283f44a",
   "metadata": {},
   "outputs": [
    {
     "name": "stdout",
     "output_type": "stream",
     "text": [
      "hello prathmesh!!\n"
     ]
    }
   ],
   "source": [
    "def Talk():\n",
    "    return \"Hello Prathmesh!!\"\n",
    "\n",
    "def Shout(func):\n",
    "    return func()\n",
    "\n",
    "def Whisper(func):\n",
    "    return func().lower()\n",
    "\n",
    "A = Whisper(Talk)\n",
    "print(A)  # Corrected variable name from 'a' to 'A'\n"
   ]
  },
  {
   "cell_type": "markdown",
   "id": "c19b7b91-c3dd-4d45-bbb4-65bd29e10691",
   "metadata": {},
   "source": [
    "# Hiegh order functions\n",
    "##### :-Function that take a function as an arguments or return a function, is called higher order function \n",
    "#### map()\n",
    "#### Filter()\n",
    "#### reduce()"
   ]
  },
  {
   "cell_type": "markdown",
   "id": "95cf9535-5799-4abf-a2da-f7b2c5eb788b",
   "metadata": {},
   "source": [
    "# 1.map()"
   ]
  },
  {
   "cell_type": "code",
   "execution_count": 1,
   "id": "4f041385-202d-40cb-aae4-c13a4f56b12b",
   "metadata": {},
   "outputs": [
    {
     "name": "stdout",
     "output_type": "stream",
     "text": [
      "8\n"
     ]
    }
   ],
   "source": [
    "\n",
    "def cube(x):\n",
    "    return x*x*x\n",
    "print(cube(2))"
   ]
  },
  {
   "cell_type": "code",
   "execution_count": 2,
   "id": "c89dc443-3971-4970-9e83-d0170e965c38",
   "metadata": {},
   "outputs": [
    {
     "name": "stdout",
     "output_type": "stream",
     "text": [
      "[1, 8, 27, 64, 125, 216]\n"
     ]
    }
   ],
   "source": [
    "l =[1,2,3,4,5,6]\n",
    "newl=[]\n",
    "for i in l:\n",
    "    newl.append(cube(i))\n",
    "print(newl)"
   ]
  },
  {
   "cell_type": "code",
   "execution_count": 3,
   "id": "fe097566-f63c-41a9-b069-c84bcaad8522",
   "metadata": {},
   "outputs": [
    {
     "data": {
      "text/plain": [
       "[1, 8, 27, 64, 125, 216]"
      ]
     },
     "execution_count": 3,
     "metadata": {},
     "output_type": "execute_result"
    }
   ],
   "source": [
    "new_list=list(map(cube,l))\n",
    "new_list"
   ]
  },
  {
   "cell_type": "code",
   "execution_count": 5,
   "id": "daa97e44-7c5a-4e2c-9303-ff234bd7ca7c",
   "metadata": {},
   "outputs": [
    {
     "data": {
      "text/plain": [
       "[1, 8, 27, 64, 125, 216]"
      ]
     },
     "execution_count": 5,
     "metadata": {},
     "output_type": "execute_result"
    }
   ],
   "source": [
    "new1list=list(map(lambda x:x*x*x,l))\n",
    "new1list"
   ]
  },
  {
   "cell_type": "markdown",
   "id": "95651d38-38fd-4fbc-90d7-10ecd9c4aea5",
   "metadata": {},
   "source": [
    "# 2.filter()"
   ]
  },
  {
   "cell_type": "code",
   "execution_count": 7,
   "id": "97ca44e4-b7de-443e-872e-5bd45a79a066",
   "metadata": {},
   "outputs": [
    {
     "data": {
      "text/plain": [
       "[3, 4, 5, 6]"
      ]
     },
     "execution_count": 7,
     "metadata": {},
     "output_type": "execute_result"
    }
   ],
   "source": [
    "def filter_function(a):\n",
    "    return a>2\n",
    "nl1=list(filter(filter_function,l))\n",
    "nl1"
   ]
  },
  {
   "cell_type": "code",
   "execution_count": 8,
   "id": "2f4f71a1-d9bf-4c2b-9d5a-b02a83a05cc4",
   "metadata": {},
   "outputs": [
    {
     "data": {
      "text/plain": [
       "[3, 4, 5, 6]"
      ]
     },
     "execution_count": 8,
     "metadata": {},
     "output_type": "execute_result"
    }
   ],
   "source": [
    "nl2=list(filter(lambda x:x>2,l))\n",
    "nl2"
   ]
  },
  {
   "cell_type": "markdown",
   "id": "d4b41cb9-ae5b-4dcd-938f-cdca194bede8",
   "metadata": {},
   "source": [
    "# 3.reduce"
   ]
  },
  {
   "cell_type": "code",
   "execution_count": 9,
   "id": "df8b9c19-32a1-4db0-b611-866e71c5fe6b",
   "metadata": {},
   "outputs": [],
   "source": [
    "from functools import reduce"
   ]
  },
  {
   "cell_type": "code",
   "execution_count": 13,
   "id": "59ab90b9-68bf-46b5-ad91-1b809f981720",
   "metadata": {},
   "outputs": [
    {
     "data": {
      "text/plain": [
       "58"
      ]
     },
     "execution_count": 13,
     "metadata": {},
     "output_type": "execute_result"
    }
   ],
   "source": [
    "numbers=[1,2,3,4,5,6,7,7,7,8,8]\n",
    "def my_sum(x,y):\n",
    "    return x+y\n",
    "sum1=reduce(my_sum,numbers)\n",
    "sum1"
   ]
  },
  {
   "cell_type": "code",
   "execution_count": 17,
   "id": "7101d2d8-feb1-4487-a349-320144f53e78",
   "metadata": {},
   "outputs": [
    {
     "data": {
      "text/plain": [
       "58"
      ]
     },
     "execution_count": 17,
     "metadata": {},
     "output_type": "execute_result"
    }
   ],
   "source": [
    "sum2=reduce(lambda x,y:x+y,numbers)\n",
    "sum2"
   ]
  },
  {
   "cell_type": "code",
   "execution_count": 31,
   "id": "89512e31-8085-4c99-b143-612e16e9aa68",
   "metadata": {},
   "outputs": [
    {
     "name": "stdout",
     "output_type": "stream",
     "text": [
      "[('navin', 'del'), ('kiran', 'apple'), ('harsh', 'ms')]\n"
     ]
    }
   ],
   "source": [
    "l1=['navin','kiran','harsh']\n",
    "l2=['del','apple','ms']\n",
    "zipped=zip(l1,l2)\n",
    "print(zipped)"
   ]
  },
  {
   "cell_type": "code",
   "execution_count": 32,
   "id": "38b06fd0-ed4a-48bd-92eb-267f2078c779",
   "metadata": {},
   "outputs": [
    {
     "name": "stdout",
     "output_type": "stream",
     "text": [
      "navin del\n",
      "kiran apple\n",
      "harsh ms\n"
     ]
    }
   ],
   "source": [
    "for (a,b) in zipped:\n",
    "    print(a,b)"
   ]
  },
  {
   "cell_type": "code",
   "execution_count": null,
   "id": "0e42e89f-fd1e-43ec-a72a-d8024d9de6c1",
   "metadata": {},
   "outputs": [],
   "source": []
  }
 ],
 "metadata": {
  "kernelspec": {
   "display_name": "Python 3 (ipykernel)",
   "language": "python",
   "name": "python3"
  },
  "language_info": {
   "codemirror_mode": {
    "name": "ipython",
    "version": 3
   },
   "file_extension": ".py",
   "mimetype": "text/x-python",
   "name": "python",
   "nbconvert_exporter": "python",
   "pygments_lexer": "ipython3",
   "version": "3.12.1"
  }
 },
 "nbformat": 4,
 "nbformat_minor": 5
}
