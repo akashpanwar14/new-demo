{
 "cells": [
  {
   "cell_type": "markdown",
   "id": "7361b136-0a6b-4e05-8e4c-758947671095",
   "metadata": {},
   "source": [
    "# All built-in functions in  python"
   ]
  },
  {
   "cell_type": "markdown",
   "id": "b515b5ae-511b-4a17-88b3-b0d5bf039448",
   "metadata": {},
   "source": [
    "## 1.abs()"
   ]
  },
  {
   "cell_type": "code",
   "execution_count": 4,
   "id": "5ecc3b77-60f0-413a-87a4-a864b3b31f87",
   "metadata": {},
   "outputs": [
    {
     "data": {
      "text/plain": [
       "11.11"
      ]
     },
     "execution_count": 4,
     "metadata": {},
     "output_type": "execute_result"
    }
   ],
   "source": [
    "abs(-11.11)"
   ]
  },
  {
   "cell_type": "markdown",
   "id": "fd76ee7d-5cfa-40b6-8bb6-9796e4525f5c",
   "metadata": {},
   "source": [
    "## 2.all()"
   ]
  },
  {
   "cell_type": "code",
   "execution_count": 6,
   "id": "47c6f249-2e3c-45e7-b00c-86a2ee84c42f",
   "metadata": {},
   "outputs": [
    {
     "data": {
      "text/plain": [
       "True"
      ]
     },
     "execution_count": 6,
     "metadata": {},
     "output_type": "execute_result"
    }
   ],
   "source": [
    "all([True,1,'hello'])"
   ]
  },
  {
   "cell_type": "code",
   "execution_count": 7,
   "id": "8640be6e-2d03-4746-a21e-e555dc6a7fd8",
   "metadata": {},
   "outputs": [
    {
     "data": {
      "text/plain": [
       "False"
      ]
     },
     "execution_count": 7,
     "metadata": {},
     "output_type": "execute_result"
    }
   ],
   "source": [
    "all([True,0,'hello'])"
   ]
  },
  {
   "cell_type": "markdown",
   "id": "39768bf4-33f4-4d3a-84d2-b3f7810686f7",
   "metadata": {},
   "source": [
    "## 2.any()"
   ]
  },
  {
   "cell_type": "code",
   "execution_count": 10,
   "id": "d81d215a-a72e-4972-8e61-204bb4ec4fdb",
   "metadata": {},
   "outputs": [
    {
     "data": {
      "text/plain": [
       "False"
      ]
     },
     "execution_count": 10,
     "metadata": {},
     "output_type": "execute_result"
    }
   ],
   "source": [
    "any([0,False,''])"
   ]
  },
  {
   "cell_type": "code",
   "execution_count": 11,
   "id": "578d05cf-4733-4c78-bf40-0413c820f899",
   "metadata": {},
   "outputs": [
    {
     "data": {
      "text/plain": [
       "True"
      ]
     },
     "execution_count": 11,
     "metadata": {},
     "output_type": "execute_result"
    }
   ],
   "source": [
    "any([0,False,'rue'])"
   ]
  },
  {
   "cell_type": "markdown",
   "id": "1ae62f62-15bb-4f14-9312-e7894ea3c5f7",
   "metadata": {},
   "source": [
    "## 3.ascii"
   ]
  },
  {
   "cell_type": "code",
   "execution_count": null,
   "id": "fa45ada8-18da-4dcd-b961-cff3b4b5b100",
   "metadata": {},
   "outputs": [],
   "source": []
  },
  {
   "cell_type": "markdown",
   "id": "8c4f6718-55f6-462c-90ec-5aa583f6023e",
   "metadata": {},
   "source": [
    "## 4.bin()"
   ]
  },
  {
   "cell_type": "code",
   "execution_count": 21,
   "id": "ec8b7eb6-eb91-4161-b4b6-9e2596bd4570",
   "metadata": {},
   "outputs": [
    {
     "data": {
      "text/plain": [
       "'0b1011'"
      ]
     },
     "execution_count": 21,
     "metadata": {},
     "output_type": "execute_result"
    }
   ],
   "source": [
    "bin(11)"
   ]
  },
  {
   "cell_type": "markdown",
   "id": "a77c4ef8-ef02-4586-8823-f9efac6af131",
   "metadata": {},
   "source": [
    "## 5.bool()"
   ]
  },
  {
   "cell_type": "code",
   "execution_count": 28,
   "id": "9b66e37c-b2a1-4107-bf44-2dda038ef98c",
   "metadata": {},
   "outputs": [
    {
     "data": {
      "text/plain": [
       "True"
      ]
     },
     "execution_count": 28,
     "metadata": {},
     "output_type": "execute_result"
    }
   ],
   "source": [
    "bool(1)"
   ]
  },
  {
   "cell_type": "markdown",
   "id": "629d7450-92ff-4e35-a264-aa73cb4ea037",
   "metadata": {},
   "source": [
    "## 6.bytearray"
   ]
  },
  {
   "cell_type": "code",
   "execution_count": 34,
   "id": "10798c67-cf9a-421e-8afb-15694fa35840",
   "metadata": {},
   "outputs": [
    {
     "data": {
      "text/plain": [
       "bytearray(b'\\x00\\x00\\x00\\x00\\x00\\x00\\x00\\x00\\x00\\x00')"
      ]
     },
     "execution_count": 34,
     "metadata": {},
     "output_type": "execute_result"
    }
   ],
   "source": [
    "bytearray(10)"
   ]
  },
  {
   "cell_type": "markdown",
   "id": "f9caaea3-e832-48c9-bd85-10f0749521b4",
   "metadata": {},
   "source": [
    "## 7.bytes"
   ]
  },
  {
   "cell_type": "code",
   "execution_count": 35,
   "id": "459a84c4-1e82-4252-8f1f-ca752dd156f3",
   "metadata": {},
   "outputs": [
    {
     "data": {
      "text/plain": [
       "b'\\x00\\x00\\x00\\x00\\x00'"
      ]
     },
     "execution_count": 35,
     "metadata": {},
     "output_type": "execute_result"
    }
   ],
   "source": [
    "bytes(5)"
   ]
  },
  {
   "cell_type": "markdown",
   "id": "2d41ab89-3231-48c7-bf98-f3032692124c",
   "metadata": {},
   "source": [
    "## 8.callable()"
   ]
  },
  {
   "cell_type": "code",
   "execution_count": 44,
   "id": "0e1e189a-cb49-4b7c-9765-d962464b8f00",
   "metadata": {},
   "outputs": [
    {
     "name": "stdout",
     "output_type": "stream",
     "text": [
      "True\n"
     ]
    }
   ],
   "source": [
    "def my_function():pass \n",
    "print(callable(my_function))"
   ]
  },
  {
   "cell_type": "markdown",
   "id": "d07c54ce-7a4c-4c64-8296-e00737f60516",
   "metadata": {},
   "source": [
    "## 9.chr()"
   ]
  },
  {
   "cell_type": "code",
   "execution_count": 45,
   "id": "d6a0b568-edbe-4001-8751-415d77f6c2bd",
   "metadata": {},
   "outputs": [
    {
     "name": "stdout",
     "output_type": "stream",
     "text": [
      "A\n"
     ]
    }
   ],
   "source": [
    "print(chr(65)) "
   ]
  },
  {
   "cell_type": "markdown",
   "id": "bbef72e1-177e-4a0e-bade-1dbc0077a6e3",
   "metadata": {},
   "source": [
    "## 10.classmethod()"
   ]
  },
  {
   "cell_type": "code",
   "execution_count": 47,
   "id": "b6fc2d16-56cd-49fe-9bdf-d2d5747a5fb4",
   "metadata": {},
   "outputs": [
    {
     "name": "stdout",
     "output_type": "stream",
     "text": [
      "MyClass\n"
     ]
    }
   ],
   "source": [
    "class MyClass:\n",
    "     @classmethod\n",
    "     def my_method(cls):\n",
    "         return cls.__name__\n",
    "print(MyClass.my_method())"
   ]
  },
  {
   "cell_type": "code",
   "execution_count": null,
   "id": "0ffcf891-4620-499b-880b-e9c2523af3e5",
   "metadata": {},
   "outputs": [],
   "source": []
  }
 ],
 "metadata": {
  "kernelspec": {
   "display_name": "Python 3 (ipykernel)",
   "language": "python",
   "name": "python3"
  },
  "language_info": {
   "codemirror_mode": {
    "name": "ipython",
    "version": 3
   },
   "file_extension": ".py",
   "mimetype": "text/x-python",
   "name": "python",
   "nbconvert_exporter": "python",
   "pygments_lexer": "ipython3",
   "version": "3.12.1"
  }
 },
 "nbformat": 4,
 "nbformat_minor": 5
}
