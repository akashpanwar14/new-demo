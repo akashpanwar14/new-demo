{
 "cells": [
  {
   "cell_type": "markdown",
   "id": "b62051c2",
   "metadata": {},
   "source": [
    "# Exception Handling"
   ]
  },
  {
   "cell_type": "code",
   "execution_count": 5,
   "id": "9716d4cd",
   "metadata": {},
   "outputs": [
    {
     "name": "stdout",
     "output_type": "stream",
     "text": [
      "Enter the first term: 1\n",
      "Enter the second term: 0\n",
      "Not divisible by zero\n"
     ]
    }
   ],
   "source": [
    "# # 1 what is exception?\n",
    "# # 2 Error\n",
    "\n",
    "# x = int(input(\"Enter the first term: \"))\n",
    "# y = int(input(\"Enter the second term: \"))\n",
    "# try:\n",
    "#     print(f\"the ans  is: {x/y}\")\n",
    "# except ZeroDivisionError:\n",
    "#     print(\"Not divisible by zero\")\n",
    "# except IndexError:\n",
    "#     print{\"Not find file\"}"
   ]
  },
  {
   "cell_type": "code",
   "execution_count": 7,
   "id": "e005ff71",
   "metadata": {},
   "outputs": [
    {
     "name": "stdout",
     "output_type": "stream",
     "text": [
      "put the string\n",
      "execution completed\n"
     ]
    }
   ],
   "source": [
    "# s =\"python\"\n",
    "# try:\n",
    "#     print(s.index(p))\n",
    "# except ValueError:\n",
    "#     print(\"value not found\")\n",
    "# except NameError:\n",
    "#     print(\"put the string\")\n",
    "# except KeyError:\n",
    "#     print(\"put string\")\n",
    "# finally:\n",
    "#     print(\"execution completed\")"
   ]
  },
  {
   "cell_type": "code",
   "execution_count": 2,
   "id": "1195091c",
   "metadata": {},
   "outputs": [
    {
     "name": "stdout",
     "output_type": "stream",
     "text": [
      "Enter the number: l\n",
      "try number\n",
      " invalid input! \n",
      "some imp lines of codes\n",
      "end of code\n"
     ]
    }
   ],
   "source": [
    "# try:\n",
    "#     a = input(\"Enter the number: \")\n",
    "#     print(f\"Multiplication table of {int(a)} is :\")\n",
    "# except:\n",
    "#     print(\"try number\")\n",
    "# try:\n",
    "#       for i in range(1,11):\n",
    "#             print(f\"{int(a)} X {i} = {int(a)*i}\")\n",
    "# except:\n",
    "#     print(\" invalid input! \")\n",
    "# print(\"some imp lines of codes\")\n",
    "# print(\"end of code\")"
   ]
  },
  {
   "cell_type": "code",
   "execution_count": 3,
   "id": "fd9071e1",
   "metadata": {},
   "outputs": [],
   "source": [
    "# customo.py"
   ]
  },
  {
   "cell_type": "code",
   "execution_count": 9,
   "id": "3c527a80",
   "metadata": {},
   "outputs": [
    {
     "name": "stdout",
     "output_type": "stream",
     "text": [
      "Program flow start\n",
      "khali\n"
     ]
    }
   ],
   "source": [
    "class MyError(Exception):\n",
    "    pass\n",
    "print(\"Program flow start\")\n",
    "print(\"khali\")"
   ]
  },
  {
   "cell_type": "code",
   "execution_count": 7,
   "id": "096f33d9",
   "metadata": {},
   "outputs": [
    {
     "name": "stdout",
     "output_type": "stream",
     "text": [
      "Division by zero is not allowed!\n",
      "The specified file does not exist.\n",
      "The key 'c' does not exist in the dictionary.\n"
     ]
    },
    {
     "ename": "ValueError",
     "evalue": "This is a custom11 exception that I raised.",
     "output_type": "error",
     "traceback": [
      "\u001b[1;31m---------------------------------------------------------------------------\u001b[0m",
      "\u001b[1;31mValueError\u001b[0m                                Traceback (most recent call last)",
      "Cell \u001b[1;32mIn[7], line 22\u001b[0m\n\u001b[0;32m     19\u001b[0m \u001b[38;5;28;01mexcept\u001b[39;00m \u001b[38;5;167;01mKeyError\u001b[39;00m:\n\u001b[0;32m     20\u001b[0m     \u001b[38;5;28mprint\u001b[39m(\u001b[38;5;124m\"\u001b[39m\u001b[38;5;124mThe key \u001b[39m\u001b[38;5;124m'\u001b[39m\u001b[38;5;124mc\u001b[39m\u001b[38;5;124m'\u001b[39m\u001b[38;5;124m does not exist in the dictionary.\u001b[39m\u001b[38;5;124m\"\u001b[39m)\n\u001b[1;32m---> 22\u001b[0m \u001b[38;5;28;01mraise\u001b[39;00m \u001b[38;5;167;01mValueError\u001b[39;00m(\u001b[38;5;124m\"\u001b[39m\u001b[38;5;124mThis is a custom11 exception that I raised.\u001b[39m\u001b[38;5;124m\"\u001b[39m)\n",
      "\u001b[1;31mValueError\u001b[0m: This is a custom11 exception that I raised."
     ]
    }
   ],
   "source": [
    "try:\n",
    "    result = 1/0  # Potential ZeroDivisionError\n",
    "except ZeroDivisionError:\n",
    "    print(\"Division by zero is not allowed!\")\n",
    "else:\n",
    "    print(f\"The result is: {result}\")\n",
    "\n",
    "try:\n",
    "    file = open(\"myfile.txt\", \"r\")\n",
    "except FileNotFoundError:\n",
    "    print(\"The specified file does not exist.\")\n",
    "# finally:\n",
    "#     if file:\n",
    "#         file.close()  # Ensure file closure even if an exception occurs\n",
    "\n",
    "try:\n",
    "    my_dict = {\"a\": 1, \"b\": 2}\n",
    "    value = my_dict[\"c\"]  # Potential KeyError\n",
    "except KeyError:\n",
    "    print(\"The key 'c' does not exist in the dictionary.\")\n",
    "\n",
    "raise ValueError(\"This is a custom11 exception that I raised.\")  # Manually raising an exception"
   ]
  },
  {
   "cell_type": "code",
   "execution_count": 10,
   "id": "16726721",
   "metadata": {},
   "outputs": [],
   "source": [
    "import smtplib as sm"
   ]
  },
  {
   "cell_type": "code",
   "execution_count": null,
   "id": "3d6d4c9c",
   "metadata": {},
   "outputs": [],
   "source": [
    "sm.email"
   ]
  },
  {
   "cell_type": "code",
   "execution_count": null,
   "id": "66143d22",
   "metadata": {},
   "outputs": [],
   "source": []
  },
  {
   "cell_type": "code",
   "execution_count": null,
   "id": "9a816a05",
   "metadata": {},
   "outputs": [],
   "source": []
  },
  {
   "cell_type": "code",
   "execution_count": null,
   "id": "313cb4a8",
   "metadata": {},
   "outputs": [],
   "source": []
  },
  {
   "cell_type": "code",
   "execution_count": null,
   "id": "7a5aae30",
   "metadata": {},
   "outputs": [],
   "source": []
  },
  {
   "cell_type": "code",
   "execution_count": null,
   "id": "b630ab38",
   "metadata": {},
   "outputs": [],
   "source": []
  },
  {
   "cell_type": "code",
   "execution_count": null,
   "id": "7a329a65",
   "metadata": {},
   "outputs": [],
   "source": []
  },
  {
   "cell_type": "code",
   "execution_count": null,
   "id": "c51c563b",
   "metadata": {},
   "outputs": [],
   "source": []
  },
  {
   "cell_type": "code",
   "execution_count": null,
   "id": "2580948a",
   "metadata": {},
   "outputs": [],
   "source": []
  },
  {
   "cell_type": "code",
   "execution_count": null,
   "id": "913ea5c4",
   "metadata": {},
   "outputs": [],
   "source": []
  },
  {
   "cell_type": "code",
   "execution_count": null,
   "id": "efad9818",
   "metadata": {},
   "outputs": [],
   "source": []
  },
  {
   "cell_type": "code",
   "execution_count": null,
   "id": "659bce0f",
   "metadata": {},
   "outputs": [],
   "source": []
  },
  {
   "cell_type": "code",
   "execution_count": null,
   "id": "9ce12ac0",
   "metadata": {},
   "outputs": [],
   "source": []
  }
 ],
 "metadata": {
  "kernelspec": {
   "display_name": "Python 3 (ipykernel)",
   "language": "python",
   "name": "python3"
  },
  "language_info": {
   "codemirror_mode": {
    "name": "ipython",
    "version": 3
   },
   "file_extension": ".py",
   "mimetype": "text/x-python",
   "name": "python",
   "nbconvert_exporter": "python",
   "pygments_lexer": "ipython3",
   "version": "3.11.5"
  }
 },
 "nbformat": 4,
 "nbformat_minor": 5
}
