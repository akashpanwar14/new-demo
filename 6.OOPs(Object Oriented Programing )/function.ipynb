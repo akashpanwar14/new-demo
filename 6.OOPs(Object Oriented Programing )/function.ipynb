{
 "cells": [
  {
   "cell_type": "markdown",
   "id": "43cdc0d0",
   "metadata": {},
   "source": [
    "#  Person Class with Greeting:\n",
    "##### Create a class called Person with attributes name and age.\n",
    "##### Define a method called greet() that prints \"Hello, my name is {name} and I am {age} years old.\"\n",
    "##### Create an instance of the Person class and call the greet() method.\n"
   ]
  },
  {
   "cell_type": "code",
   "execution_count": 10,
   "id": "b3ce553d",
   "metadata": {},
   "outputs": [
    {
     "name": "stdout",
     "output_type": "stream",
     "text": [
      "Hello, My name is Akash and I am 0 years old.\n",
      "Hello, My name is Satyarth and I am 0 years old.\n",
      "Hello, My name is Anjali and I am 0 years old.\n"
     ]
    }
   ],
   "source": [
    "class Person:\n",
    "    def __init__(self,name,age):\n",
    "        self.name = name\n",
    "        self.age = ageage = 0\n",
    "        \n",
    "    name = \"\"\n",
    "    def greet(self):\n",
    "        print(f\"Hello, My name is {self.name} and I am {self.age} years old.\")\n",
    "class Test:\n",
    "    # variable = constructor\n",
    "    akash = Person(\"Akash\",19)\n",
    "    satyarth = Person(\"Satyarth\",20)\n",
    "    anjali = Person(\"Anjali\",20)\n",
    "    akash.greet()\n",
    "    satyarth.greet()\n",
    "    anjali.greet()\n"
   ]
  },
  {
   "cell_type": "markdown",
   "id": "4840b20c",
   "metadata": {},
   "source": [
    "#  Rectangle Class with Area and Perimeter:\n",
    "#### Create a class called Rectangle with attributes length and width.\n",
    "#### Define two methods:\n",
    "#### area(): Calculates and returns the area of the rectangle.\n",
    "#### perimeter(): Calculates and returns the perimeter of the rectangle.\n",
    "#### Create an instance of the Rectangle class, set its dimensions, and call both methods to print the results.\n"
   ]
  },
  {
   "cell_type": "code",
   "execution_count": null,
   "id": "31fc1760",
   "metadata": {},
   "outputs": [],
   "source": [
    "# class Rectangle:\n",
    "#     length=0\n",
    "#     breath=0\n",
    "#     def __init__(self,length,breath):\n",
    "#         self.length=length\n",
    "#         self.breath=breath\n",
    "#     length=0\n",
    "#     breath=0\n",
    "    \n",
    "#     def area(self):\n",
    "#         print(self.length)\n",
    "    \n",
    "#     def perimiter(self):\n",
    "        "
   ]
  },
  {
   "cell_type": "markdown",
   "id": "882999f6",
   "metadata": {},
   "source": [
    "# define a function that takes an integer as a parameter if it is an armstrong number or not "
   ]
  },
  {
   "cell_type": "code",
   "execution_count": 5,
   "id": "4e8e6ca6",
   "metadata": {},
   "outputs": [],
   "source": [
    "def is_armstrong(num):\n",
    "    t1=num\n",
    "    digit =len(str(t1))\n",
    "    sum=0\n",
    "    while(t1>0):\n",
    "        rem=t1%10\n",
    "        multi=rem**digit\n",
    "        sum+=multi\n",
    "        t1//=10\n",
    "    if num==sum:\n",
    "        print(f\"{num}is a armstrong number\")\n",
    "    else:\n",
    "        print(f\"{num} is not a armstrong number\")\n",
    "        \n",
    "        "
   ]
  },
  {
   "cell_type": "markdown",
   "id": "4dfc14f0",
   "metadata": {},
   "source": [
    "# define a function that takes  an integer and prints it is a prime or not "
   ]
  },
  {
   "cell_type": "code",
   "execution_count": 2,
   "id": "97436614",
   "metadata": {},
   "outputs": [],
   "source": [
    "def is_prime(num):\n",
    "    chk=0\n",
    "    for i in range(2,num):\n",
    "        if num%2==0:\n",
    "            chk+1\n",
    "            break\n",
    "    if chk>0:\n",
    "        print(\"it is a prime number\")\n",
    "    else:\n",
    "        print(\"it is not a prime number\")"
   ]
  },
  {
   "cell_type": "code",
   "execution_count": 4,
   "id": "334a202a",
   "metadata": {},
   "outputs": [
    {
     "ename": "ModuleNotFoundError",
     "evalue": "No module named 'oops1'",
     "output_type": "error",
     "traceback": [
      "\u001b[1;31m---------------------------------------------------------------------------\u001b[0m",
      "\u001b[1;31mModuleNotFoundError\u001b[0m                       Traceback (most recent call last)",
      "Cell \u001b[1;32mIn[4], line 1\u001b[0m\n\u001b[1;32m----> 1\u001b[0m \u001b[38;5;28;01mfrom\u001b[39;00m \u001b[38;5;21;01moops1\u001b[39;00m \u001b[38;5;28;01mimport\u001b[39;00m is_prime \u001b[38;5;28;01mas\u001b[39;00m n\n",
      "\u001b[1;31mModuleNotFoundError\u001b[0m: No module named 'oops1'"
     ]
    }
   ],
   "source": [
    "# from oops1 import is_prime as n"
   ]
  },
  {
   "cell_type": "markdown",
   "id": "6021d413",
   "metadata": {},
   "source": [
    "# using recursion print 1 to 100 without using loop"
   ]
  },
  {
   "cell_type": "code",
   "execution_count": 12,
   "id": "76801a60",
   "metadata": {
    "collapsed": true
   },
   "outputs": [
    {
     "name": "stdout",
     "output_type": "stream",
     "text": [
      "1\n",
      "2\n",
      "3\n",
      "4\n",
      "5\n",
      "6\n",
      "7\n",
      "8\n",
      "9\n",
      "10\n",
      "11\n",
      "12\n",
      "13\n",
      "14\n",
      "15\n",
      "16\n",
      "17\n",
      "18\n",
      "19\n",
      "20\n",
      "21\n",
      "22\n",
      "23\n",
      "24\n",
      "25\n",
      "26\n",
      "27\n",
      "28\n",
      "29\n",
      "30\n",
      "31\n",
      "32\n",
      "33\n",
      "34\n",
      "35\n",
      "36\n",
      "37\n",
      "38\n",
      "39\n",
      "40\n",
      "41\n",
      "42\n",
      "43\n",
      "44\n",
      "45\n",
      "46\n",
      "47\n",
      "48\n",
      "49\n",
      "50\n",
      "51\n",
      "52\n",
      "53\n",
      "54\n",
      "55\n",
      "56\n",
      "57\n",
      "58\n",
      "59\n",
      "60\n",
      "61\n",
      "62\n",
      "63\n",
      "64\n",
      "65\n",
      "66\n",
      "67\n",
      "68\n",
      "69\n",
      "70\n",
      "71\n",
      "72\n",
      "73\n",
      "74\n",
      "75\n",
      "76\n",
      "77\n",
      "78\n",
      "79\n",
      "80\n",
      "81\n",
      "82\n",
      "83\n",
      "84\n",
      "85\n",
      "86\n",
      "87\n",
      "88\n",
      "89\n",
      "90\n",
      "91\n",
      "92\n",
      "93\n",
      "94\n",
      "95\n",
      "96\n",
      "97\n",
      "98\n",
      "99\n"
     ]
    }
   ],
   "source": [
    "def run(n):\n",
    "    if n<100:\n",
    "        print(n)\n",
    "        run(n+1)\n",
    "run(1)"
   ]
  }
 ],
 "metadata": {
  "kernelspec": {
   "display_name": "Python 3 (ipykernel)",
   "language": "python",
   "name": "python3"
  },
  "language_info": {
   "codemirror_mode": {
    "name": "ipython",
    "version": 3
   },
   "file_extension": ".py",
   "mimetype": "text/x-python",
   "name": "python",
   "nbconvert_exporter": "python",
   "pygments_lexer": "ipython3",
   "version": "3.11.5"
  }
 },
 "nbformat": 4,
 "nbformat_minor": 5
}
