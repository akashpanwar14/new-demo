{
 "cells": [
  {
   "cell_type": "markdown",
   "id": "d367b15c",
   "metadata": {},
   "source": [
    "# Polymorphism in Python : l"
   ]
  },
  {
   "cell_type": "markdown",
   "id": "dab19289",
   "metadata": {},
   "source": [
    "# Topic: Function Overriding\n",
    "\n",
    "#### Define a base class Shape with a method area that returns 0.\n",
    "#### Create a derived class Circle that inherits from Shape and overrides the area method to calculate the area of a circle. Provide sample input and expected output.\n",
    "\n",
    "#### Expected Outcome:\n",
    "#### - Sample Input: Radius = 5\n",
    "#### - Expected Output: 78.54\n"
   ]
  },
  {
   "cell_type": "code",
   "execution_count": 6,
   "id": "9299fc9d",
   "metadata": {},
   "outputs": [
    {
     "name": "stdout",
     "output_type": "stream",
     "text": [
      "78.53975\n"
     ]
    }
   ],
   "source": [
    "# class Shape:\n",
    "#     def __init__(self,x,y):\n",
    "#         self.x=x\n",
    "#         self.y=y\n",
    "#     def area(self):\n",
    "#         return self.x*self.y\n",
    "\n",
    "# class Circle(Shape):\n",
    "#     def __init__(self,radius):\n",
    "#         super().__init__(radius,radius)\n",
    "#         self.radius =radius\n",
    "#     def area(self):\n",
    "#         return 3.14159* super().area()\n",
    "        \n",
    "# c1=Circle(5)\n",
    "# print(c1.area())"
   ]
  },
  {
   "cell_type": "code",
   "execution_count": 3,
   "id": "167d3585",
   "metadata": {},
   "outputs": [
    {
     "data": {
      "text/plain": [
       "78.53975"
      ]
     },
     "execution_count": 3,
     "metadata": {},
     "output_type": "execute_result"
    }
   ],
   "source": [
    "# class Shape:\n",
    "#     def area(self):\n",
    "#         return 0\n",
    "\n",
    "# class Circle(Shape):\n",
    "#     def __init__(self, radius):\n",
    "#         self.radius = radius\n",
    "        \n",
    "#     def area(self):\n",
    "#         circle_area = 3.14159 * (self.radius ** 2)\n",
    "#         return circle_area\n",
    "# c1 =Circle(5)\n",
    "# c1.area()"
   ]
  },
  {
   "cell_type": "markdown",
   "id": "0bf60a6d",
   "metadata": {},
   "source": [
    "## Question:\n",
    "#### Create a base class Vehicle with a method fuel_efficiency that returns 0.\n",
    "#### Derive a class Car from Vehicle and override the fuel_efficiency \n",
    "#### method to calculate the efficiency of a car. Provide sample input and expected output.\n",
    "\n",
    "## Expected Outcome:\n",
    "#### - Sample Input: Distance = 300, Fuel Consumed = 20\n",
    "#### - Expected Output: 15.0\n",
    "\n",
    "## Steps:\n",
    "#### 1. Define a base class Vehicle with a method fuel_efficiency returning 0.\n",
    "#### 2. Create a derived class Car inheriting from Vehicle.\n",
    "#### 3. Override the fuel_efficiency method in the Car class to calculate efficiency (distance/fuel_consumed).\n",
    "#### 4. Instantiate an object of the Car class with distance and fuel consumed values.\n",
    "#### 5. Call the fuel_efficiency method on the object and print the result.\n",
    "\n"
   ]
  },
  {
   "cell_type": "code",
   "execution_count": 11,
   "id": "090a4beb",
   "metadata": {},
   "outputs": [
    {
     "data": {
      "text/plain": [
       "10.0"
      ]
     },
     "execution_count": 11,
     "metadata": {},
     "output_type": "execute_result"
    }
   ],
   "source": [
    "# class Vehicle:\n",
    "#     def fuel_efficiency(self):\n",
    "#         return 0\n",
    "    \n",
    "# class Car(Vehicle):\n",
    "#     def __init__(self,distance,fuel_consumed):\n",
    "#         self.distance=distance\n",
    "#         self.fuel_consumed=fuel_consumed\n",
    "#     def fuel_efficiency(self):\n",
    "#         if self.fuel_consumed != 0:\n",
    "#             efficiency = self.distance / self.fuel_consumed\n",
    "#             return efficiency\n",
    "#         else:\n",
    "#             return 0\n",
    "# c1=Car(50,5)\n",
    "# c1.fuel_efficiency()"
   ]
  },
  {
   "cell_type": "markdown",
   "id": "e488169b",
   "metadata": {},
   "source": [
    "# Question:\n",
    "#### Design a class hierarchy with a base class Animal and derived classes Dog and Cat. Override a method sound in each derived class to return the sound each animal makes. Provide sample input and expected output.\n",
    "\n",
    "#### Expected Outcome:\n",
    "#### - Sample Input: None\n",
    "#### - Expected Output: \"Woof!\" for Dog, \"Meow!\" for Cat\n",
    "\n",
    "## Steps:\n",
    "#### 1. Define a base class Animal with a method sound returning an empty string.\n",
    "#### 2. Create derived classes Dog and Cat inheriting from Animal.\n",
    "#### 3. Override the sound method in each derived class to return the sound each animal makes.\n",
    "#### 4. Instantiate objects of the Dog and Cat classes.\n",
    "#### 5. Call the sound method on each object and print the result.\n"
   ]
  },
  {
   "cell_type": "code",
   "execution_count": 19,
   "id": "8d45ffb4",
   "metadata": {},
   "outputs": [
    {
     "name": "stdout",
     "output_type": "stream",
     "text": [
      "woof!\n",
      "meoow!\n"
     ]
    }
   ],
   "source": [
    "# class Animal:\n",
    "#     def sound(self):\n",
    "#         return \"\"\n",
    "    \n",
    "# class Dog(Animal):\n",
    "#     def sound(self):\n",
    "#         return \"woof!\"\n",
    "    \n",
    "    \n",
    "# class Cat(Animal):\n",
    "#     def sound(self):\n",
    "#         return \"meoow!\"\n",
    "# d1=Dog()\n",
    "# print(d1.sound())\n",
    "\n",
    "# c1=Cat()\n",
    "# print(c1.sound())"
   ]
  },
  {
   "cell_type": "markdown",
   "id": "c8614d6c",
   "metadata": {},
   "source": [
    "# Implement a base class Person with a method greet that returns \"Hello!\".\n",
    "#### Create a derived class Student from Person and override the greet method to return \"Hi there!\".\n",
    "#### Provide sample input and expected output.\n",
    "\n",
    "## Expected Outcome:\n",
    "#### - Sample Input: None\n",
    "#### - Expected Output: \"Hi there!\"\n",
    "\n",
    "## Steps:\n",
    "#### 1. Define a base class Person with a method greet returning \"Hello!\".\n",
    "#### 2. Create a derived class Student inheriting from Person.\n",
    "#### 3. Override the greet method in the Student class to return \"Hi there!\".\n",
    "#### 4. Instantiate an object of the Student class.\n",
    "#### 5. Call the greet method on the object and print the result.\n"
   ]
  },
  {
   "cell_type": "code",
   "execution_count": 28,
   "id": "d38444b7",
   "metadata": {},
   "outputs": [
    {
     "data": {
      "text/plain": [
       "'Hi There!'"
      ]
     },
     "execution_count": 28,
     "metadata": {},
     "output_type": "execute_result"
    }
   ],
   "source": [
    "# class Person:\n",
    "#     def greet(self):\n",
    "#         return \"Hello!\"\n",
    "# class Student(Person):\n",
    "#     def greet(self):\n",
    "#         return \"Hi There!\"\n",
    "# s1=Student()\n",
    "# s1.greet()\n",
    "# # p1=Person()\n",
    "# # p1.greet()"
   ]
  },
  {
   "cell_type": "markdown",
   "id": "0dd8e25a",
   "metadata": {},
   "source": [
    "## Question:\n",
    "#### Create a base class Employee with a method calculate_salary that returns 0.\n",
    "#### Derive a class Manager from Employee and override the calculate_salary method to include a bonus.\n",
    "#### Provide sample input and expected output.\n",
    "\n",
    "## Expected Outcome:\n",
    "#### - Sample Input: Base Salary = 50000, Bonus = 10000\n",
    "#### - Expected Output: 60000\n",
    "\n",
    "## Steps:\n",
    "#### 1. Define a base class Employee with a method calculate_salary returning 0.\n",
    "#### 2. Create a derived class Manager inheriting from Employee.\n",
    "#### 3. Override the calculate_salary method in the Manager class to include a bonus.\n",
    "#### 4. Instantiate an object of the Manager class with base salary and bonus values.\n",
    "#### 5. Call the calculate_salary method on the object and print the result.\n"
   ]
  },
  {
   "cell_type": "code",
   "execution_count": 40,
   "id": "0680c5cb",
   "metadata": {},
   "outputs": [
    {
     "data": {
      "text/plain": [
       "'Total Salary : 60000'"
      ]
     },
     "execution_count": 40,
     "metadata": {},
     "output_type": "execute_result"
    }
   ],
   "source": [
    "class Employee:\n",
    "    def __init__(self,salary):\n",
    "        self.salary=salary\n",
    "    def calculate_Salary(self):\n",
    "        return 0\n",
    "class Manager(Employee):\n",
    "    def __init__(self,salary,bonus):\n",
    "        super().__init__(salary)\n",
    "        self.bonus=bonus\n",
    "    def calculate_Salary(self):\n",
    "        total_salary = self.salary + self.bonus\n",
    "        return f\"Total Salary : {total_salary}\"\n",
    "m1=Manager(50000,10000)\n",
    "m1.calculate_Salary()"
   ]
  },
  {
   "cell_type": "code",
   "execution_count": 43,
   "id": "99d8b0e3",
   "metadata": {},
   "outputs": [],
   "source": [
    "class Account:\n",
    "    def __init__(self, balance):\n",
    "        self.balance = balance  # \"__\" indicates private attribute\n",
    "    def deposit(self, amount):\n",
    "        self.balance += amount\n",
    "a1=Account(1000)\n",
    "a1.deposit(500)"
   ]
  },
  {
   "cell_type": "code",
   "execution_count": 1,
   "id": "d20f2613",
   "metadata": {},
   "outputs": [
    {
     "name": "stdout",
     "output_type": "stream",
     "text": [
      "Implementation of method1\n",
      "Implementation of method2\n"
     ]
    }
   ],
   "source": [
    "from abc import ABC, abstractmethod\n",
    "\n",
    "class MyInterface(ABC):\n",
    "    @abstractmethod\n",
    "    def method1(self):\n",
    "        pass\n",
    "\n",
    "    @abstractmethod\n",
    "    def method2(self):\n",
    "        pass\n",
    "\n",
    "class MyClass(MyInterface):\n",
    "    def method1(self):\n",
    "        print(\"Implementation of method1\")\n",
    "\n",
    "    def method2(self):\n",
    "        print(\"Implementation of method2\")\n",
    "\n",
    "# Instantiate MyClass\n",
    "obj = MyClass()\n",
    "obj.method1()  # Output: \"Implementation of method1\"\n",
    "obj.method2()  # Output: \"Implementation of method2\"\n"
   ]
  },
  {
   "cell_type": "code",
   "execution_count": null,
   "id": "04fb694d",
   "metadata": {},
   "outputs": [],
   "source": []
  }
 ],
 "metadata": {
  "kernelspec": {
   "display_name": "Python 3 (ipykernel)",
   "language": "python",
   "name": "python3"
  },
  "language_info": {
   "codemirror_mode": {
    "name": "ipython",
    "version": 3
   },
   "file_extension": ".py",
   "mimetype": "text/x-python",
   "name": "python",
   "nbconvert_exporter": "python",
   "pygments_lexer": "ipython3",
   "version": "3.11.5"
  }
 },
 "nbformat": 4,
 "nbformat_minor": 5
}
