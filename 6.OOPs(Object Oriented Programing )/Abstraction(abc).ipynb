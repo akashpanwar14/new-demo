{
 "cells": [
  {
   "cell_type": "markdown",
   "id": "14891531",
   "metadata": {},
   "source": [
    "# Abstraction"
   ]
  },
  {
   "cell_type": "code",
   "execution_count": 6,
   "id": "52b68523",
   "metadata": {},
   "outputs": [
    {
     "name": "stdout",
     "output_type": "stream",
     "text": [
      "Matte Cadbury Blue\n",
      "V8 engine\n",
      "Automatic\n",
      "Hatchback\n",
      "Electric\n"
     ]
    }
   ],
   "source": [
    "# Car\n",
    "from abc import ABC , abstractmethod\n",
    "class Car(ABC):\n",
    "    @abstractmethod\n",
    "    def engine(self):\n",
    "        pass\n",
    "    @abstractmethod\n",
    "    def chasis(self):\n",
    "        pass\n",
    "\n",
    "\n",
    "    @abstractmethod\n",
    "    def controls(self):\n",
    "        pass\n",
    "\n",
    "\n",
    "    @abstractmethod\n",
    "    def fuel_type(self):\n",
    "        pass\n",
    "class Hyundai(Car):\n",
    "    def color(self):\n",
    "        return \"Matte Cadbury Blue\"\n",
    "    def engine(self):\n",
    "        return \"V8 engine\"\n",
    "    def chasis(self):\n",
    "        return \"Hatchback\"\n",
    "    def controls(self):\n",
    "        return \"Automatic\"\n",
    "    def fuel_type(self):\n",
    "        return \"Electric\"\n",
    "class Honda(Car):\n",
    "    def engine(self):\n",
    "        return \"V4 engine\"\n",
    "    def chasis(self):\n",
    "        return \"Sedan\"\n",
    "    def controls(self):\n",
    "        return \"Manual\"\n",
    "    def fuel_type(self):\n",
    "        return \"Petrol\" \n",
    "    def turbo(self):\n",
    "        return \"Manual\"\n",
    "class Test:\n",
    "    i20 = Hyundai()\n",
    "#     i20.run()\n",
    "    print(i20.color())\n",
    "    print(i20.engine())\n",
    "    print(i20.controls())\n",
    "    print(i20.chasis())\n",
    "    print(i20.fuel_type())\n"
   ]
  }
 ],
 "metadata": {
  "kernelspec": {
   "display_name": "Python 3 (ipykernel)",
   "language": "python",
   "name": "python3"
  },
  "language_info": {
   "codemirror_mode": {
    "name": "ipython",
    "version": 3
   },
   "file_extension": ".py",
   "mimetype": "text/x-python",
   "name": "python",
   "nbconvert_exporter": "python",
   "pygments_lexer": "ipython3",
   "version": "3.11.5"
  }
 },
 "nbformat": 4,
 "nbformat_minor": 5
}
