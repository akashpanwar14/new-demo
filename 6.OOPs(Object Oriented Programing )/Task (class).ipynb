{
 "cells": [
  {
   "cell_type": "markdown",
   "id": "a600bca5",
   "metadata": {},
   "source": [
    "# Create a class called BankAccount with the following attributes and methods:\n",
    "## Attributes:\n",
    "#### account_number (integer)\n",
    "#### balance (float)\n",
    "## Methods:\n",
    "#### deposit(self, amount): Adds the given amount to the account balance.\n",
    "#### withdraw(self, amount): Withdraws the given amount from the account balance, ensuring the balance doesn't go below zero.\n",
    "#### get_balance(self): Returns the current account balance.\n",
    "### Once you've defined the class, create instances of BankAccount objects, test their methods"
   ]
  },
  {
   "cell_type": "code",
   "execution_count": 27,
   "id": "a78ae456",
   "metadata": {},
   "outputs": [
    {
     "name": "stdout",
     "output_type": "stream",
     "text": [
      "total balance is 2000\n",
      "total balance is 1500 \n",
      "the total available balance is 1500\n"
     ]
    }
   ],
   "source": [
    "# class Bank_account:\n",
    "#     def __init__(self,account_number,balance):\n",
    "#         self.account_number=account_number\n",
    "#         self.balance=balance\n",
    "#     def deposite(self,amount):\n",
    "#         self.balance+=amount\n",
    "#         print(f\"total balance is {self.balance}\")\n",
    "#     def withdraw(self,amount):\n",
    "#         self.balance-=amount\n",
    "#         print(f\"total balance is {self.balance} \" )\n",
    "#     def get_balance(self):\n",
    "#         print(f\"the total available balance is {self.balance}\")\n",
    "\n",
    "# a=Bank_account(91799,1000)\n",
    "# a.deposite(1000)\n",
    "# a.withdraw(500)\n",
    "# a.get_balance()"
   ]
  },
  {
   "cell_type": "markdown",
   "id": "ef30e3c6",
   "metadata": {},
   "source": [
    "#  Person Class with Greeting:\n",
    "#### Create a class called Person with attributes name and age.\n",
    "#### Initialize the attributes using its constructor.\n",
    "#### Define a method called greet() that prints \"Hello, my name is {name} and I am {age} years old.\"\n",
    "#### Create an instance of the Person class and call the greet() method.\n"
   ]
  },
  {
   "cell_type": "code",
   "execution_count": 35,
   "id": "806a37a2",
   "metadata": {},
   "outputs": [
    {
     "name": "stdout",
     "output_type": "stream",
     "text": [
      "hello my name is akash and i am 19 year old\n",
      "hello my name is abhishek and i am 20 year old\n"
     ]
    }
   ],
   "source": [
    "# class Person():\n",
    "#     def __init__(self,name,age):\n",
    "#         self.name=name\n",
    "#         self.age=age\n",
    "#     def greet(self):\n",
    "#         print(f\"hello my name is {self.name} and i am {self.age} year old\")\n",
    "# a =Person(\"akash\",19)\n",
    "# a.greet()\n",
    "# b=Person(\"abhishek\",20)\n",
    "# b.greet()"
   ]
  },
  {
   "cell_type": "markdown",
   "id": "eb18396e",
   "metadata": {},
   "source": [
    "#  Rectangle Class with Area and Perimeter:\n",
    "#### Create a class called Rectangle with attributes length and width.\n",
    "#### Define two methods:\n",
    "#### area(): Calculates and returns the area of the rectangle.\n",
    "#### perimeter(): Calculates and returns the perimeter of the rectangle.\n",
    "#### Create an instance of the Rectangle class, set its dimensions, and call both methods to print the results.\n"
   ]
  },
  {
   "cell_type": "code",
   "execution_count": 39,
   "id": "bd235dda",
   "metadata": {},
   "outputs": [
    {
     "name": "stdout",
     "output_type": "stream",
     "text": [
      "the area of rectangle with the length 10 and breath 8 is 80\n",
      "the perimeter of rectangle with the length 10 and breath 8 is 36\n"
     ]
    }
   ],
   "source": [
    "# class Rectangel:\n",
    "#     def __init__(self,length,breath):\n",
    "#         self.length=length\n",
    "#         self.breath=breath\n",
    "#     def area(self):\n",
    "#         print(f\"the area of rectangle with the length {self.length} and breath {self.breath} is {self.length*self.breath}\")\n",
    "#     def perimeter(self):\n",
    "#         print(f\"the perimeter of rectangle with the length {self.length} and breath {self.breath} is {2*(self.length+self.breath)}\")\n",
    "# R1=Rectangel(10,8)\n",
    "# R1.area()\n",
    "# R1.perimeter()"
   ]
  },
  {
   "cell_type": "markdown",
   "id": "140c724b",
   "metadata": {},
   "source": [
    "#  Number Checker:\n",
    "### Define a function called is_even(number) that returns True if the given number is even, and False otherwise.\n",
    "### Create a class called NumberChecker with a method called check_numbers(list_of_numbers) that takes a list of numbers and calls the is_even() function for each number, printing whether it's even or odd"
   ]
  },
  {
   "cell_type": "code",
   "execution_count": 77,
   "id": "5d00b699",
   "metadata": {},
   "outputs": [],
   "source": [
    "#not done"
   ]
  },
  {
   "cell_type": "markdown",
   "id": "7659f34b",
   "metadata": {},
   "source": [
    "# Temperature Converter:\n",
    "#### Create a class called TemperatureConverter with two methods:\n",
    "#### celsius_to_fahrenheit(celsius): Converts Celsius to Fahrenheit using the formula F = (C * 9/5) + 32.\n",
    "#### fahrenheit_to_celsius(fahrenheit): Converts Fahrenheit to Celsius using the formula C = (F - 32) * 5/9.\n",
    "#### Allow users to input a temperature and the desired unit, and call the appropriate method to perform the conversion.\n"
   ]
  },
  {
   "cell_type": "code",
   "execution_count": 90,
   "id": "2168d22c",
   "metadata": {},
   "outputs": [
    {
     "name": "stdout",
     "output_type": "stream",
     "text": [
      "82.4\n",
      "28.000000000000004\n"
     ]
    }
   ],
   "source": [
    "# class TemperatureConverter:\n",
    "#     def celsius_to_fahrenheit(self,celsius):\n",
    "#         fahrnite=celsius*(9/5)+32\n",
    "#         print(fahrnite)\n",
    "#     def fahrenheit_to_celsius(self,fahrnite):\n",
    "#         celsius=(fahrnite-32)*5/9\n",
    "#         print(celsius)\n",
    "# a=TemperatureConverter()\n",
    "# a.celsius_to_fahrenheit(28)\n",
    "# b=TemperatureConverter()\n",
    "# b.fahrenheit_to_celsius(82.4)"
   ]
  }
 ],
 "metadata": {
  "kernelspec": {
   "display_name": "Python 3 (ipykernel)",
   "language": "python",
   "name": "python3"
  },
  "language_info": {
   "codemirror_mode": {
    "name": "ipython",
    "version": 3
   },
   "file_extension": ".py",
   "mimetype": "text/x-python",
   "name": "python",
   "nbconvert_exporter": "python",
   "pygments_lexer": "ipython3",
   "version": "3.11.5"
  }
 },
 "nbformat": 4,
 "nbformat_minor": 5
}
