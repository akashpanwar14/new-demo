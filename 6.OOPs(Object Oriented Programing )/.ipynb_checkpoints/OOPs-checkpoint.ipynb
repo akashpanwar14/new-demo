{
 "cells": [
  {
   "cell_type": "markdown",
   "id": "43dabbd1",
   "metadata": {},
   "source": [
    "# Class and object"
   ]
  },
  {
   "cell_type": "code",
   "execution_count": 1,
   "id": "31b1825c",
   "metadata": {},
   "outputs": [
    {
     "name": "stdout",
     "output_type": "stream",
     "text": [
      "Woof!\n"
     ]
    }
   ],
   "source": [
    "class Dog:\n",
    "    def __init__(self, name, breed):  # Constructor\n",
    "        self.name = name\n",
    "        self.breed = breed\n",
    "    def bark(self):\n",
    "        print(\"Woof!\")\n",
    "# Creating an object of the Dog class\n",
    "my_dog = Dog(\"Buddy\", \"Golden Retriever\")\n",
    "my_dog.bark()  # Output: Woof\n"
   ]
  },
  {
   "cell_type": "markdown",
   "id": "3314b154",
   "metadata": {},
   "source": [
    "# Inheritance"
   ]
  },
  {
   "cell_type": "code",
   "execution_count": 3,
   "id": "d41dc805",
   "metadata": {},
   "outputs": [
    {
     "name": "stdout",
     "output_type": "stream",
     "text": [
      "Woof!\n",
      "Fetching the ball!\n"
     ]
    }
   ],
   "source": [
    "class GoldenRetriever(Dog):  # GoldenRetriever inherits from Dog\n",
    "    def fetch(self):\n",
    "        print(\"Fetching the ball!\")\n",
    "my_retriever = GoldenRetriever(\"Max\", \"Golden Retriever\")\n",
    "my_retriever.bark()    # Inherited from the Dog class\n",
    "my_retriever.fetch()  # Specific to the GoldenRetriever class\n"
   ]
  },
  {
   "cell_type": "markdown",
   "id": "b1fe0ec8",
   "metadata": {},
   "source": [
    "# Polymorphism"
   ]
  },
  {
   "cell_type": "code",
   "execution_count": 4,
   "id": "336b36af",
   "metadata": {},
   "outputs": [],
   "source": [
    "class Animal:\n",
    "    def make_sound(self):\n",
    "        raise NotImplementedError  # Must be implemented in child classes\n",
    "class Dog(Animal):\n",
    "    def make_sound(self):\n",
    "        print(\"Woof!\")\n",
    "class Cat(Animal):\n",
    "    def make_sound(self):\n",
    "        print(\"Meow!\")\n"
   ]
  },
  {
   "cell_type": "markdown",
   "id": "ba8c0ec6",
   "metadata": {},
   "source": [
    "# Encapsulation"
   ]
  },
  {
   "cell_type": "code",
   "execution_count": 5,
   "id": "2ed03b1c",
   "metadata": {},
   "outputs": [],
   "source": [
    "class Account:\n",
    "    def __init__(self, balance):\n",
    "        self.__balance = balance  # \"__\" indicates private attribute\n",
    "    def deposit(self, amount):\n",
    "        self.__balance += amount\n",
    "# You cannot directly access the __balance attribute outside the class \n"
   ]
  },
  {
   "cell_type": "code",
   "execution_count": null,
   "id": "122bb071",
   "metadata": {},
   "outputs": [],
   "source": []
  }
 ],
 "metadata": {
  "kernelspec": {
   "display_name": "Python 3 (ipykernel)",
   "language": "python",
   "name": "python3"
  },
  "language_info": {
   "codemirror_mode": {
    "name": "ipython",
    "version": 3
   },
   "file_extension": ".py",
   "mimetype": "text/x-python",
   "name": "python",
   "nbconvert_exporter": "python",
   "pygments_lexer": "ipython3",
   "version": "3.11.5"
  }
 },
 "nbformat": 4,
 "nbformat_minor": 5
}
