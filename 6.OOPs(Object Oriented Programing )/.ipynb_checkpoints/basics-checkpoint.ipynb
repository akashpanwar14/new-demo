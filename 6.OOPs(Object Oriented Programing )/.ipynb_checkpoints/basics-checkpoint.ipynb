{
 "cells": [
  {
   "cell_type": "code",
   "execution_count": 1,
   "id": "26c9c2e5",
   "metadata": {},
   "outputs": [],
   "source": [
    "# class Shape:\n",
    "    \n",
    "#     def area(self):\n",
    "#         print(\"area of shape\")\n",
    "#     def perimeter(self):\n",
    "#         print(\"perimeter of shape\")"
   ]
  },
  {
   "cell_type": "code",
   "execution_count": 9,
   "id": "24b2330d",
   "metadata": {},
   "outputs": [
    {
     "name": "stdout",
     "output_type": "stream",
     "text": [
      "Woof!\n"
     ]
    }
   ],
   "source": [
    "# class Dog:\n",
    "#     def __init__(self, name, breed):  # Constructor\n",
    "#         self.name = name\n",
    "#         self.breed = breed\n",
    "#     def bark(self):\n",
    "#         print(\"Woof!\")\n",
    "# # Creating an object of the Dog class\n",
    "# my_dog = Dog(\"Buddy\", \"Golden Retriever\")\n",
    "# my_dog.bark()  # Output: Woof"
   ]
  },
  {
   "cell_type": "code",
   "execution_count": 10,
   "id": "e61b63d0",
   "metadata": {},
   "outputs": [
    {
     "name": "stdout",
     "output_type": "stream",
     "text": [
      "Woof!\n",
      "Fetching the ball!\n"
     ]
    }
   ],
   "source": [
    "# class GoldenRetriever(Dog):  # GoldenRetriever inherits from Dog\n",
    "#     def fetch(self):\n",
    "#         print(\"Fetching the ball!\")\n",
    "# my_retriever = GoldenRetriever(\"Max\", \"Golden Retriever\")\n",
    "# my_retriever.bark()    # Inherited from the Dog class\n",
    "# my_retriever.fetch()  # Specific to the GoldenRetriever class"
   ]
  },
  {
   "cell_type": "code",
   "execution_count": 12,
   "id": "5c6b7b5d",
   "metadata": {},
   "outputs": [],
   "source": [
    "# class Animal:\n",
    "#     def make_sound(self):\n",
    "#         raise NotImplementedError  # Must be implemented in child classes\n",
    "# class Dog(Animal):\n",
    "#     def make_sound(self):\n",
    "#         print(\"Woof!\")\n",
    "# class Cat(Animal):\n",
    "#     def make_sound(self):\n",
    "#         print(\"Meow!\")\n"
   ]
  },
  {
   "cell_type": "code",
   "execution_count": null,
   "id": "3c9c6030",
   "metadata": {},
   "outputs": [],
   "source": [
    "# class Account:\n",
    "#     def __init__(self, balance):\n",
    "#         self.__balance = balance  # \"__\" indicates private attribute\n",
    "#     def deposit(self, amount):\n",
    "#         self.__balance += amount\n",
    "# # You cannot directly access the __balance attribute outside the class "
   ]
  },
  {
   "cell_type": "markdown",
   "id": "f79d2c8c",
   "metadata": {},
   "source": [
    "# \"OOPs\""
   ]
  },
  {
   "cell_type": "code",
   "execution_count": 56,
   "id": "e9407845",
   "metadata": {},
   "outputs": [
    {
     "name": "stdout",
     "output_type": "stream",
     "text": [
      "adding new student in database...\n",
      "karan 97\n",
      "adding new student in database...\n",
      "arjun 78\n",
      "ABC College\n"
     ]
    }
   ],
   "source": [
    "class Student:\n",
    "        college_name=\"ABC College\"\n",
    "        def __init__(self,name,marks):\n",
    "            self.name =name\n",
    "            self.marks=marks\n",
    "            print(\"adding new student in database...\")\n",
    "        \n",
    "s1 = Student(\"karan\",97)\n",
    "print(s1.name, s1.marks)\n",
    "s2 = Student(\"arjun\",78)\n",
    "print(s2.name, s2.marks)\n",
    "print(s2.college_name)"
   ]
  },
  {
   "cell_type": "code",
   "execution_count": 14,
   "id": "0079b07f",
   "metadata": {},
   "outputs": [
    {
     "name": "stdout",
     "output_type": "stream",
     "text": [
      "mecedes\n",
      "blue\n"
     ]
    }
   ],
   "source": [
    "class Car:#class\n",
    "    color = \"blue\"\n",
    "    brand =\"mecedes\"\n",
    "car1=Car()#object\n",
    "print(Car.brand)\n",
    "print(Car.color)"
   ]
  },
  {
   "cell_type": "markdown",
   "id": "a557aa89",
   "metadata": {},
   "source": [
    "# Attributed"
   ]
  },
  {
   "cell_type": "code",
   "execution_count": null,
   "id": "37bd3dde",
   "metadata": {},
   "outputs": [],
   "source": [
    "# class.attr\n",
    "# obj.atrtr"
   ]
  },
  {
   "cell_type": "code",
   "execution_count": 79,
   "id": "4148dde6",
   "metadata": {},
   "outputs": [
    {
     "name": "stdout",
     "output_type": "stream",
     "text": [
      "hi Akash, your avg score is : 85\n",
      "hi Raj, your avg score is : 74\n",
      "hi abhi, your avg score is : 85\n"
     ]
    }
   ],
   "source": [
    "class Student:\n",
    "    def __init__(self,name,marks):\n",
    "        self.name=name\n",
    "        self.marks=marks\n",
    "    def average(self):\n",
    "        sum =0\n",
    "        for i in self.marks:\n",
    "            sum+=i\n",
    "        print(f\"hi {self.name}, your avg score is : {sum//3}\")    \n",
    "        \n",
    "        \n",
    "s1 =Student(\"Akash\",[90,78,88])\n",
    "s1.average()\n",
    "s2=Student(\"Raj\",[89,56,78])\n",
    "s2.average()\n",
    "s1.name=\"abhi\"\n",
    "s1.average()"
   ]
  }
 ],
 "metadata": {
  "kernelspec": {
   "display_name": "Python 3 (ipykernel)",
   "language": "python",
   "name": "python3"
  },
  "language_info": {
   "codemirror_mode": {
    "name": "ipython",
    "version": 3
   },
   "file_extension": ".py",
   "mimetype": "text/x-python",
   "name": "python",
   "nbconvert_exporter": "python",
   "pygments_lexer": "ipython3",
   "version": "3.11.5"
  }
 },
 "nbformat": 4,
 "nbformat_minor": 5
}
