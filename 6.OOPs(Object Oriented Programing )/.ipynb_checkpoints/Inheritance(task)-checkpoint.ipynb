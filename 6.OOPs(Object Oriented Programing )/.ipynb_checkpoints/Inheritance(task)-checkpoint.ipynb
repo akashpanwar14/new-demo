{
 "cells": [
  {
   "cell_type": "markdown",
   "id": "97c6d768",
   "metadata": {},
   "source": [
    "# Inheritance"
   ]
  },
  {
   "cell_type": "code",
   "execution_count": 1,
   "id": "8202da34",
   "metadata": {},
   "outputs": [
    {
     "name": "stdout",
     "output_type": "stream",
     "text": [
      "display from child\n",
      "run from parent\n"
     ]
    }
   ],
   "source": [
    "# class Parent:\n",
    "#     def run(self):\n",
    "#         print(\"run from parent\")\n",
    "# class Child(Parent):\n",
    "#     def display(self):\n",
    "#         print(\"display from child\")\n",
    "# class Test:\n",
    "#     ch = Child()\n",
    "#     ch.display()\n",
    "#     ch.run()"
   ]
  },
  {
   "cell_type": "code",
   "execution_count": 36,
   "id": "fc0ec182",
   "metadata": {
    "scrolled": false
   },
   "outputs": [
    {
     "name": "stdout",
     "output_type": "stream",
     "text": [
      "monthly\n",
      "Subscribe with 121212 id subscribed to the monthly plan\n",
      "None\n",
      "maximum screens set to 4 in the premium plan\n"
     ]
    }
   ],
   "source": [
    "# class OTTSubscription:\n",
    "#     def __init__(self,subscription_id,plan,total_payment):\n",
    "#         self.subscription_id=subscription_id\n",
    "#         self.plan=plan\n",
    "#         self.total_payment=total_payment\n",
    "#     def subscribe(self):\n",
    "#         print(f\"Subscribe with {self.subscription_id} id subscribed to the {self.plan} plan\")\n",
    "#     def unsubscribe(self):\n",
    "#         print(f\"subscribe with self id unsubscribed to the {self.plan} plan\")\n",
    "# class PrimiumSubscription(OTTSubscription):\n",
    "#     def __init__(self,subscription_id,plan,total_payment,screens):\n",
    "#         super().__init__(subscription_id,plan,total_payment)\n",
    "#         self.max_screens=screens\n",
    "\n",
    "#     def set_max(self,screens):\n",
    "#         self.max_screens=screens\n",
    "#         print(f\"maximum screens set to {self.max_screens} in the premium plan\")\n",
    "\n",
    "# net = OTTSubscription(121212,\"monthly\",121)\n",
    "# print(net.plan)\n",
    "# print(net.subscribe())\n",
    "\n",
    "\n",
    "# netflix=PrimiumSubscription(121212,\"Yearly\",1000,2)\n",
    "# netflix.set_max(4)"
   ]
  },
  {
   "cell_type": "markdown",
   "id": "110313a4",
   "metadata": {},
   "source": [
    "# 1.\n",
    "### - Define a base class (Instrument) with attributes for the name and purpose of an instrument.\n",
    "### - Derive a subclass (Microscope) from Instrument with additional attributes like magnification and illumination type.\n",
    "### - Implement a method (display_info()) in both classes to print out the details of each instrument.\n"
   ]
  },
  {
   "cell_type": "code",
   "execution_count": 14,
   "id": "94153a95",
   "metadata": {},
   "outputs": [
    {
     "name": "stdout",
     "output_type": "stream",
     "text": [
      "instrument name = compound Microscope\n",
      "instrument Purpose = Biological Research\n",
      "instrument magnification = 1000\n",
      "instrument illumination = bright field\n"
     ]
    }
   ],
   "source": [
    "# class Instrument:\n",
    "#     def __init__(self,name,purpose):\n",
    "#         self.name=name\n",
    "#         self.purpose=purpose\n",
    "        \n",
    "#     def Displayinfo(self):\n",
    "#         print(f\"instrument name = {self.name}\")\n",
    "#         print(f\"instrument Purpose = {self.purpose}\")\n",
    "        \n",
    "# class Microscope(Instrument):\n",
    "#     def __init__(self,name,purpose,magnification,illumination):\n",
    "#         super().__init__(name,purpose)\n",
    "#         self.magnification=magnification\n",
    "#         self.illumination=illumination\n",
    "\n",
    "#     def Displayinfo(self):\n",
    "#         super().Displayinfo()\n",
    "#         print(f\"instrument magnification = {self.magnification}\")\n",
    "#         print(f\"instrument illumination = {self.illumination}\")\n",
    "# m1 =Microscope(\"compound Microscope\",\"Biological Research\",\"1000\",\"bright field\")\n",
    "# m1.Displayinfo()"
   ]
  },
  {
   "cell_type": "markdown",
   "id": "5a2b0b75",
   "metadata": {},
   "source": [
    "# 2.\n",
    "### - Create a base class (Instrument) with attributes for the name and category of an instrument\n",
    "### - Derive a subclass (Guitar) from Instrument with additional attributes like the number of strings and guitar type.\n",
    "### - Implement a method (play()) in the base class to simulate playing the instrument.\n"
   ]
  },
  {
   "cell_type": "code",
   "execution_count": 29,
   "id": "4d582809",
   "metadata": {},
   "outputs": [
    {
     "name": "stdout",
     "output_type": "stream",
     "text": [
      "Romeo is playing \n"
     ]
    }
   ],
   "source": [
    "# class Instrument:\n",
    "#     def __init__(self,name,category):\n",
    "#         self.name=name\n",
    "#         self.category=category\n",
    "#     def play(self):\n",
    "#         print(f\"{self.name} is playing \")\n",
    "        \n",
    "# class Guitar(Instrument):\n",
    "#     def __init__(self,name,category,no_of_string,Guitar_type):\n",
    "#         super().__init__(name,category)\n",
    "#         self.no_of_string=no_of_string\n",
    "#         self.Guitar_type=Guitar_type\n",
    "#     def play(self):\n",
    "#         print(f\"{self.name} is playing \")\n",
    "# g1=Guitar(\"Romeo\",\"AAshiq\",6,\"Lakdaa\")\n",
    "# g1.play()"
   ]
  },
  {
   "cell_type": "markdown",
   "id": "609a502a",
   "metadata": {},
   "source": [
    "# 3.\n",
    "### - Create a base class (Ingredient) with attributes for the name and category of an ingredient.\n",
    "### - Derive a subclass (Vegetable) from Ingredients with additional attributes like color and cooking method.\n",
    "### - Further derive a subclass (RootVegetable) from Vegetable with an extra attribute for nutrient content.\n",
    "### - Implement a method (display_info()) in each class to show information about each ingredient."
   ]
  },
  {
   "cell_type": "code",
   "execution_count": 51,
   "id": "56a7ce10",
   "metadata": {},
   "outputs": [
    {
     "name": "stdout",
     "output_type": "stream",
     "text": [
      "name : carrot\n",
      "category:sweet\n",
      "color : red\n",
      "cooking_method : no need to cook\n",
      "nutritient content : ['vitaminA', 'vitB', 'lowfat']\n"
     ]
    }
   ],
   "source": [
    "# class Ingredient():\n",
    "#     def __init__(self,name,category):\n",
    "#         self.name=name\n",
    "#         self.category=category\n",
    "        \n",
    "#     def DisplayInfo(self):\n",
    "#         print(f\"name : {self.name}\")\n",
    "#         print(f\"category:{self.category}\")\n",
    "                \n",
    "# class Vegetables(Ingredient):\n",
    "#     def __init__(self,name,category,color,cooking_method):\n",
    "#         super().__init__(name,category)\n",
    "#         self.color=color\n",
    "#         self.cooking_method=cooking_method\n",
    "    \n",
    "#     def DisplayInfo(self):\n",
    "#         super().DisplayInfo()\n",
    "#         print(f\"color : {self.color}\")\n",
    "#         print(f\"cooking_method : {self.cooking_method}\")          \n",
    "# class RootVegetables(Vegetables):\n",
    "#     def __init__(self,name,category,color,cooking_method,nutritient_content):\n",
    "#         super().__init__(name,category,color,cooking_method)\n",
    "#         self.nutritient_content=nutritient_content\n",
    "#     def DisplayInfo(self):\n",
    "#         super().DisplayInfo()\n",
    "#         print(f\"nutritient content : {self.nutritient_content}\")\n",
    "# i1=RootVegetables(\"carrot\",\"sweet\",\"red\",\"no need to cook\",[\"vitaminA\",\"vitB\",\"lowfat\"])\n",
    "# i1.DisplayInfo()"
   ]
  },
  {
   "cell_type": "markdown",
   "id": "1b3d83d8",
   "metadata": {},
   "source": [
    "# 4.\n",
    "### - Establish a base class (ElectronicDevice) with attributes for the brand and power consumption of a device.\n",
    "### - Derive two subclasses (Television and Refrigerator) from ElectronicDevice.\n",
    "### - Implement a method (display_info()) in each class to print out details.\n",
    "### - Add specific functionalities such as screen size for the television and cooling capacity for the refrigerator.\n"
   ]
  },
  {
   "cell_type": "code",
   "execution_count": 77,
   "id": "1c89af31",
   "metadata": {},
   "outputs": [
    {
     "name": "stdout",
     "output_type": "stream",
     "text": [
      "brand : samsung\n",
      "Power :1200w\n",
      "size : 56inch\n",
      "brand : panasonic\n",
      "Power :1000w\n",
      "cooling capacity : 300\n"
     ]
    }
   ],
   "source": [
    "# class ElectronicDevice:\n",
    "#     def __init__(self,brand,power_consumption):\n",
    "#         self.brand=brand\n",
    "#         self.power_consumption=power_consumption\n",
    "    \n",
    "#     def DisplayInfo(self):\n",
    "#         print(f\"brand : {self.brand}\")\n",
    "#         print(f\"Power :{self.power_consumption}\")\n",
    "              \n",
    "# class Telivision(ElectronicDevice):\n",
    "#     def __init__(self,brand,power_consumption,scr_size):\n",
    "#         super().__init__(brand,power_consumption)\n",
    "#         self.scr_size=scr_size\n",
    "        \n",
    "#     def DisplayInfo(self):\n",
    "#         super().DisplayInfo()\n",
    "#         print(f\"size : {self.scr_size}\")\n",
    "\n",
    "# class Refrigirator(ElectronicDevice):\n",
    "#     def __init__(self,brand,power_consumption,cooling):\n",
    "#         super().__init__(brand,power_consumption,)\n",
    "#         self.cooling=cooling\n",
    "        \n",
    "#     def DisplayInfo(self):\n",
    "#         super().DisplayInfo()\n",
    "#         print(f\"cooling capacity : {self.cooling}\")\n",
    "\n",
    "# t1=Telivision(\"samsung\",\"1200w\",\"56inch\")\n",
    "# t1.DisplayInfo()\n",
    "\n",
    "\n",
    "# f1=Refrigirator(\"panasonic\",\"1000w\",\"300\")\n",
    "# f1.DisplayInfo()"
   ]
  },
  {
   "cell_type": "markdown",
   "id": "e26cb437",
   "metadata": {},
   "source": [
    "# 5.\n",
    "### - Create a base class (Vehicle) with attributes for the model and fuel type of a vehicle.\n",
    "### - Derive two subclasses (Car and Bicycle) from Vehicle.\n",
    "### - Further derive a subclass (ElectricCar) from Car to represent electric cars.\n",
    "### - Implement a method (display_info()) in each class to print out details.\n",
    "### - Add specific functionalities such as the number of doors for the car and range per charge for the electric car. "
   ]
  },
  {
   "cell_type": "code",
   "execution_count": 97,
   "id": "f6f96b42",
   "metadata": {},
   "outputs": [
    {
     "name": "stdout",
     "output_type": "stream",
     "text": [
      "model name : ola\n",
      "fuel : electric\n",
      "no of Door : 4\n",
      " \n",
      "model name : hero\n",
      "fuel : petrol\n",
      "no of gear : 5\n"
     ]
    }
   ],
   "source": [
    "# class Vehical:\n",
    "#     def __init__(self,model,fuel):\n",
    "#         self.model=model\n",
    "#         self.fuel=fuel\n",
    "#     def DisplayInfo(self):\n",
    "#         print(f\"model name : {self.model}\")\n",
    "#         print(f\"fuel : {self.fuel}\")\n",
    "              \n",
    "# class Car(Vehical):\n",
    "#     def __init__(self,model,fuel,door):\n",
    "#         super().__init__(model,fuel)\n",
    "#         self.door=door\n",
    "#     def DisplayInfo(self):\n",
    "#         super().DisplayInfo()\n",
    "#         print(f\"no of Door : {self.door}\")\n",
    "              \n",
    "# class Bicycle(Vehical):\n",
    "#     def __init__(self,model,fuel,gear):\n",
    "#         super().__init__(model,fuel)\n",
    "#         self.gear=gear\n",
    "#     def DisplayInfo(self):\n",
    "#         super().DisplayInfo()\n",
    "#         print(f\"no of gear : {self.gear}\")\n",
    "        \n",
    "        \n",
    "# class ElectricCar(Car):\n",
    "#     def __init__(self,model,fuel,door,Range):\n",
    "#         super().__init__(model,fuel,door)\n",
    "#         self.Range=Range\n",
    "#     def DisplayInfo(self):\n",
    "#         super().DisplayInfo()\n",
    "# e1=ElectricCar(\"ola\",\"electric\",4,\"15kmph\")\n",
    "# e1.DisplayInfo()\n",
    "# print(\" \")\n",
    "# b1=Bicycle(\"hero\",\"petrol\",5)\n",
    "# b1.DisplayInfo()"
   ]
  },
  {
   "cell_type": "code",
   "execution_count": null,
   "id": "384cc8ce",
   "metadata": {},
   "outputs": [],
   "source": []
  }
 ],
 "metadata": {
  "kernelspec": {
   "display_name": "Python 3 (ipykernel)",
   "language": "python",
   "name": "python3"
  },
  "language_info": {
   "codemirror_mode": {
    "name": "ipython",
    "version": 3
   },
   "file_extension": ".py",
   "mimetype": "text/x-python",
   "name": "python",
   "nbconvert_exporter": "python",
   "pygments_lexer": "ipython3",
   "version": "3.11.5"
  }
 },
 "nbformat": 4,
 "nbformat_minor": 5
}
