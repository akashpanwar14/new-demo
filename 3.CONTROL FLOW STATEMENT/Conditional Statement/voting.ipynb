{
 "cells": [
  {
   "cell_type": "markdown",
   "id": "acc92f08",
   "metadata": {},
   "source": [
    "## make the creteria of man is an indian citizen and then second is eligible to vote\n"
   ]
  },
  {
   "cell_type": "code",
   "execution_count": null,
   "id": "6f233e55",
   "metadata": {},
   "outputs": [],
   "source": [
    "citizen = input(\"enter your country:\")\n",
    "\n",
    "if(citizen==\"indian\" or citizen==\"Indian\" or citizen==\"INDIAN\"):\n",
    "    age = int(input(\"Enter your age : \")) #14\n",
    "    if age>=18 and age<110:\n",
    "        print:(\"person is eligible to vote\")\n",
    "    else:\n",
    "        print(\"age not qualified\")\n",
    "else:\n",
    "       print(\"not a citizen\")\n",
    "\n"
   ]
  },
  {
   "cell_type": "code",
   "execution_count": null,
   "id": "46f8a756",
   "metadata": {},
   "outputs": [],
   "source": []
  },
  {
   "cell_type": "code",
   "execution_count": null,
   "id": "083cb3cd",
   "metadata": {},
   "outputs": [],
   "source": []
  }
 ],
 "metadata": {
  "kernelspec": {
   "display_name": "Python 3 (ipykernel)",
   "language": "python",
   "name": "python3"
  },
  "language_info": {
   "codemirror_mode": {
    "name": "ipython",
    "version": 3
   },
   "file_extension": ".py",
   "mimetype": "text/x-python",
   "name": "python",
   "nbconvert_exporter": "python",
   "pygments_lexer": "ipython3",
   "version": "3.11.5"
  }
 },
 "nbformat": 4,
 "nbformat_minor": 5
}
