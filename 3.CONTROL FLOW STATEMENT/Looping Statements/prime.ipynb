{
 "cells": [
  {
   "cell_type": "code",
   "execution_count": null,
   "id": "0e27a0e9",
   "metadata": {},
   "outputs": [],
   "source": [
    "# 1234567"
   ]
  },
  {
   "cell_type": "code",
   "execution_count": 12,
   "id": "b40b1797",
   "metadata": {},
   "outputs": [],
   "source": [
    "# # 1 2 3 4 5 6 7 8 9\n",
    "\n",
    "# # Take the limits if a range from the user and count the number of prime numbers in the range\n",
    "\n",
    "# llimit = int(input(\"Enter the 1st num : \")) #10\n",
    "# ulimit = int(input(\"Enter the 2nd num : \")) #30\n",
    "# count = 0\n",
    "# for j in range(llimit,ulimit+1): #10\n",
    "#     num = j #10\n",
    "#     check = True\n",
    "#     for i in range(2,num): #9\n",
    "#         if(num%i==0):\n",
    "#             check = False\n",
    "#             break\n",
    "        \n",
    "#     if(check==True):\n",
    "#         print(num)\n",
    "#         count+=1\n",
    "    \n",
    "# print(\"The number of prime numbers b/w\",llimit ,\"and\",ulimit,\"is\",count)   "
   ]
  },
  {
   "cell_type": "code",
   "execution_count": 14,
   "id": "ea2dd2f2",
   "metadata": {},
   "outputs": [
    {
     "name": "stdout",
     "output_type": "stream",
     "text": [
      "Enter the 1st number : 1\n",
      "Enter the 2nd number : 100\n",
      "1\n",
      "2\n",
      "3\n",
      "5\n",
      "7\n",
      "9\n",
      "11\n",
      "13\n",
      "15\n",
      "17\n",
      "19\n",
      "21\n",
      "23\n",
      "25\n",
      "27\n",
      "29\n",
      "31\n",
      "33\n",
      "35\n",
      "37\n",
      "39\n",
      "41\n",
      "43\n",
      "45\n",
      "47\n",
      "49\n",
      "51\n",
      "53\n",
      "55\n",
      "57\n",
      "59\n",
      "61\n",
      "63\n",
      "65\n",
      "67\n",
      "69\n",
      "71\n",
      "73\n",
      "75\n",
      "77\n",
      "79\n",
      "81\n",
      "83\n",
      "85\n",
      "87\n",
      "89\n",
      "91\n",
      "93\n",
      "95\n",
      "97\n",
      "99\n",
      "The num of prime number b/w  1 and 100 is 51\n"
     ]
    }
   ],
   "source": [
    "llimit = int(input(\"Enter the 1st number : \")) #1\n",
    "ulimit = int(input(\"Enter the 2nd number : \"))#100\n",
    "count = 0\n",
    "for j in  range(llimit,ulimit+1):\n",
    "    num = j\n",
    "    check = True\n",
    "    for i in range(2,num):\n",
    "        if(num%i==0):\n",
    "            check = False\n",
    "            break\n",
    "    if (check == True ):\n",
    "        print(num)\n",
    "        count+=1\n",
    "print(\"The num of prime number b/w \",llimit,\"and\",ulimit,\"is\",count)"
   ]
  },
  {
   "cell_type": "code",
   "execution_count": 4,
   "id": "c78b8e75",
   "metadata": {},
   "outputs": [
    {
     "name": "stdout",
     "output_type": "stream",
     "text": [
      "Enter the 1st num : 1\n",
      "Enter the 2nd num : 100\n",
      "The number of prime numbers b/w 1 and 100 is 26\n"
     ]
    }
   ],
   "source": [
    "# # 1 2 3 4 5 6 7 8 9\n",
    "\n",
    "\n",
    "# # Take the limits if a range from the user and count the number of prime numbers in the range\n",
    "\n",
    "\n",
    "# llimit = int(input(\"Enter the 1st num : \")) #10\n",
    "# ulimit = int(input(\"Enter the 2nd num : \")) #30\n",
    "# count = 0\n",
    "# for j in range(llimit,ulimit+1): #10\n",
    "#     num = j #10\n",
    "#     check = True\n",
    "#     for i in range(2,num): #9\n",
    "#         if(num%i==0):\n",
    "#             check = False\n",
    "#             break\n",
    "       \n",
    "#     if(check==True):\n",
    "#         count+=1\n",
    "   \n",
    "# print(\"The number of prime numbers b/w\",llimit ,\"and\",ulimit,\"is\",count)\n",
    "\n",
    "\n"
   ]
  },
  {
   "cell_type": "code",
   "execution_count": null,
   "id": "a45ff450",
   "metadata": {},
   "outputs": [],
   "source": []
  },
  {
   "cell_type": "code",
   "execution_count": null,
   "id": "a644c626",
   "metadata": {},
   "outputs": [],
   "source": []
  },
  {
   "cell_type": "code",
   "execution_count": null,
   "id": "4abee61b",
   "metadata": {},
   "outputs": [],
   "source": []
  }
 ],
 "metadata": {
  "kernelspec": {
   "display_name": "Python 3 (ipykernel)",
   "language": "python",
   "name": "python3"
  },
  "language_info": {
   "codemirror_mode": {
    "name": "ipython",
    "version": 3
   },
   "file_extension": ".py",
   "mimetype": "text/x-python",
   "name": "python",
   "nbconvert_exporter": "python",
   "pygments_lexer": "ipython3",
   "version": "3.11.5"
  }
 },
 "nbformat": 4,
 "nbformat_minor": 5
}
