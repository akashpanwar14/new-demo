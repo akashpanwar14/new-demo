{
 "cells": [
  {
   "cell_type": "code",
   "execution_count": null,
   "id": "189b0ff6",
   "metadata": {},
   "outputs": [
    {
     "name": "stdout",
     "output_type": "stream",
     "text": [
      "0\n",
      "1\n",
      "2\n",
      "3\n",
      "4\n",
      "5\n",
      "6\n",
      "7\n",
      "8\n",
      "9\n",
      "153\n",
      "370\n",
      "371\n",
      "407\n",
      "1634\n",
      "8208\n",
      "9474\n",
      "54748\n",
      "92727\n",
      "93084\n"
     ]
    }
   ],
   "source": [
    "#  Functions\n",
    "# 3\n",
    "# 370 = 3*3*3 + 7*7*7 + 0*0*0\n",
    "# 370 = 27 + 343 + 0\n",
    "# 370 = 370\n",
    "\n",
    "\n",
    "\n",
    "\n",
    "# 4\n",
    "# 1634 = 1*1*1*1 + 6*6*6*6 + 3*3*3*3 + 4*4*4*4\n",
    "# 1634 = 1 + 1296 + 81 + 256\n",
    "# 1634 = 1634\n",
    "\n",
    "\n",
    "# 0 - 999999\n",
    "count  = 0\n",
    "for j in range(0,1000000):\n",
    "    num = j\n",
    "    digit = 0 #3\n",
    "    # Number of digits\n",
    "    t1 = num #0\n",
    "    while(t1>0): #0\n",
    "        digit+=1\n",
    "        t1//=10\n",
    "\n",
    "\n",
    "    # Individual digits mulitply to the times digits\n",
    "    t2 = num\n",
    "    sum = 0 #153\n",
    "    while(t2>0): #0\n",
    "        rem = t2%10 #1\n",
    "        multi = 1 #1\n",
    "        for i in range(1,digit+1):\n",
    "            multi*=rem\n",
    "    # add the products\n",
    "        sum+=multi\n",
    "        t2//=10\n",
    "\n",
    "\n",
    "    # compare with original number\n",
    "    if(num==sum):\n",
    "        count+=1\n",
    "        print(num)\n",
    "   \n",
    "\n",
    "\n",
    "print(\"The number of armstrong numbers b/w 100 - 9999 is\",count)\n",
    "\n",
    "\n"
   ]
  },
  {
   "cell_type": "code",
   "execution_count": null,
   "id": "47ec5c88",
   "metadata": {},
   "outputs": [],
   "source": []
  }
 ],
 "metadata": {
  "kernelspec": {
   "display_name": "Python 3 (ipykernel)",
   "language": "python",
   "name": "python3"
  },
  "language_info": {
   "codemirror_mode": {
    "name": "ipython",
    "version": 3
   },
   "file_extension": ".py",
   "mimetype": "text/x-python",
   "name": "python",
   "nbconvert_exporter": "python",
   "pygments_lexer": "ipython3",
   "version": "3.11.5"
  }
 },
 "nbformat": 4,
 "nbformat_minor": 5
}
