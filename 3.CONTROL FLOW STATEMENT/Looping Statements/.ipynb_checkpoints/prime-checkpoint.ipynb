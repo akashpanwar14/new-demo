{
 "cells": [
  {
   "cell_type": "code",
   "execution_count": null,
   "id": "0e27a0e9",
   "metadata": {},
   "outputs": [],
   "source": [
    "# 1234567"
   ]
  },
  {
   "cell_type": "code",
   "execution_count": 13,
   "id": "b40b1797",
   "metadata": {},
   "outputs": [
    {
     "name": "stdout",
     "output_type": "stream",
     "text": [
      "Enter the 1st num : 1\n",
      "Enter the 2nd num : 12\n",
      "1\n",
      "2\n",
      "3\n",
      "5\n",
      "7\n",
      "11\n",
      "The number of prime numbers b/w 1 and 12 is 6\n"
     ]
    }
   ],
   "source": [
    "# # 1 2 3 4 5 6 7 8 9\n",
    "\n",
    "# # Take the limits if a range from the user and count the number of prime numbers in the range\n",
    "\n",
    "# llimit = int(input(\"Enter the 1st num : \")) #10\n",
    "# ulimit = int(input(\"Enter the 2nd num : \")) #30\n",
    "# count = 0\n",
    "# for j in range(llimit,ulimit+1): #10\n",
    "#     num = j #10\n",
    "#     check = True\n",
    "#     for i in range(2,num): #9\n",
    "#         if(num%i==0):\n",
    "#             check = False\n",
    "#             break\n",
    "        \n",
    "#     if(check==True):\n",
    "#         print(num)\n",
    "#         count+=1\n",
    "    \n",
    "# print(\"The number of prime numbers b/w\",llimit ,\"and\",ulimit,\"is\",count)   "
   ]
  },
  {
   "cell_type": "code",
   "execution_count": null,
   "id": "c78b8e75",
   "metadata": {},
   "outputs": [],
   "source": [
    "# # 1 2 3 4 5 6 7 8 9\n",
    "\n",
    "\n",
    "# # Take the limits if a range from the user and count the number of prime numbers in the range\n",
    "\n",
    "\n",
    "# llimit = int(input(\"Enter the 1st num : \")) #10\n",
    "# ulimit = int(input(\"Enter the 2nd num : \")) #30\n",
    "# count = 0\n",
    "# for j in range(llimit,ulimit+1): #10\n",
    "#     num = j #10\n",
    "#     check = True\n",
    "#     for i in range(2,num): #9\n",
    "#         if(num%i==0):\n",
    "#             check = False\n",
    "#             break\n",
    "       \n",
    "#     if(check==True):\n",
    "#         count+=1\n",
    "   \n",
    "# print(\"The number of prime numbers b/w\",llimit ,\"and\",ulimit,\"is\",count)\n",
    "\n",
    "\n",
    "# # "
   ]
  }
 ],
 "metadata": {
  "kernelspec": {
   "display_name": "Python 3 (ipykernel)",
   "language": "python",
   "name": "python3"
  },
  "language_info": {
   "codemirror_mode": {
    "name": "ipython",
    "version": 3
   },
   "file_extension": ".py",
   "mimetype": "text/x-python",
   "name": "python",
   "nbconvert_exporter": "python",
   "pygments_lexer": "ipython3",
   "version": "3.11.5"
  }
 },
 "nbformat": 4,
 "nbformat_minor": 5
}
