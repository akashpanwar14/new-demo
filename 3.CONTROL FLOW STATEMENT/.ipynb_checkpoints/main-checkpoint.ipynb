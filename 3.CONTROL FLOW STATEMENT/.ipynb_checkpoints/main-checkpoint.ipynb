{
 "cells": [
  {
   "cell_type": "code",
   "execution_count": 3,
   "id": "f223697f",
   "metadata": {},
   "outputs": [
    {
     "name": "stdout",
     "output_type": "stream",
     "text": [
      "Enter the number:15\n",
      "odd\n"
     ]
    }
   ],
   "source": [
    "x = int(input(\"Enter the number:\"))\n",
    "if(x%2==0):\n",
    "    print(\"Even\")\n",
    "else:\n",
    "    print(\"odd\")"
   ]
  },
  {
   "cell_type": "code",
   "execution_count": 6,
   "id": "ad11eff5",
   "metadata": {},
   "outputs": [],
   "source": [
    "#task: check the greatest numbers, by taking the nubers as input from user\n",
    "#task:check the greatest of the three nubers, by taking the number as input from user"
   ]
  },
  {
   "cell_type": "code",
   "execution_count": 14,
   "id": "55f3f331",
   "metadata": {},
   "outputs": [
    {
     "name": "stdout",
     "output_type": "stream",
     "text": [
      "number x:12\n",
      "number y:15\n",
      "x is less than y\n"
     ]
    }
   ],
   "source": [
    "x = int(input(\"number x:\"))\n",
    "y = int(input(\"number y:\"))\n",
    "if(x>y):\n",
    "    print(\"x is greator than y\")\n",
    "else:\n",
    "    print(\"x is less than y\")    "
   ]
  },
  {
   "cell_type": "code",
   "execution_count": null,
   "id": "018822b0",
   "metadata": {},
   "outputs": [],
   "source": []
  }
 ],
 "metadata": {
  "kernelspec": {
   "display_name": "Python 3 (ipykernel)",
   "language": "python",
   "name": "python3"
  },
  "language_info": {
   "codemirror_mode": {
    "name": "ipython",
    "version": 3
   },
   "file_extension": ".py",
   "mimetype": "text/x-python",
   "name": "python",
   "nbconvert_exporter": "python",
   "pygments_lexer": "ipython3",
   "version": "3.11.5"
  }
 },
 "nbformat": 4,
 "nbformat_minor": 5
}
