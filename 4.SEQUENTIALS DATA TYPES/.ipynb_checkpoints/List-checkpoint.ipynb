{
 "cells": [
  {
   "cell_type": "code",
   "execution_count": 10,
   "id": "ff221d9c",
   "metadata": {},
   "outputs": [],
   "source": [
    "# # 45 to 68\n",
    "# even_list = [46, 48, 50, 52, 54, 56, 58, 60, 62, 64, 66]\n",
    "# # for i in range(45,68):\n",
    "# #     if(i%2==0):\n",
    "# #         even_list.append(i)\n",
    "# # print(even_list)\n",
    "\n",
    "# for i in range(0,-1,-1):\n",
    "#     print(even_list)"
   ]
  },
  {
   "cell_type": "code",
   "execution_count": null,
   "id": "a270ae21",
   "metadata": {},
   "outputs": [],
   "source": [
    "\n",
    "# even_list =[]\n",
    "# for i in range(45,68):\n",
    "#     if(i%2==0):\n",
    "#         even_list.append(i)\n",
    "# print(even_list)"
   ]
  },
  {
   "cell_type": "code",
   "execution_count": 1,
   "id": "781395cc",
   "metadata": {
    "scrolled": true
   },
   "outputs": [
    {
     "name": "stdout",
     "output_type": "stream",
     "text": [
      "1\n",
      "5\n",
      "10\n",
      "1 2 3 3 3 4 5 6 7 8 9 10 "
     ]
    }
   ],
   "source": [
    "# #      0,1,2,3,4,5,6,7,8,9,10,11\n",
    "# num = [1,2,3,3,3,4,5,6,7,8,9,10]\n",
    "\n",
    "# first = 0\n",
    "# middle = int(len(num)/2)\n",
    "# last = len(num)-1\n",
    "\n",
    "# print(num[first])\n",
    "# print(num[middle])\n",
    "# print(num[last])\n",
    "\n",
    "# for i in num:\n",
    "#     print(i, end=\" \")\n"
   ]
  },
  {
   "cell_type": "code",
   "execution_count": null,
   "id": "09b9ed76",
   "metadata": {},
   "outputs": [],
   "source": []
  }
 ],
 "metadata": {
  "kernelspec": {
   "display_name": "Python 3 (ipykernel)",
   "language": "python",
   "name": "python3"
  },
  "language_info": {
   "codemirror_mode": {
    "name": "ipython",
    "version": 3
   },
   "file_extension": ".py",
   "mimetype": "text/x-python",
   "name": "python",
   "nbconvert_exporter": "python",
   "pygments_lexer": "ipython3",
   "version": "3.11.5"
  }
 },
 "nbformat": 4,
 "nbformat_minor": 5
}
