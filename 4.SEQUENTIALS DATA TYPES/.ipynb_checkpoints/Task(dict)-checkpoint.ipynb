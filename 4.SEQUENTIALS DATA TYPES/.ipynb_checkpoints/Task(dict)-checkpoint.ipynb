{
 "cells": [
  {
   "cell_type": "markdown",
   "id": "d2f94e37",
   "metadata": {},
   "source": [
    "# DICT(TASK)"
   ]
  },
  {
   "cell_type": "markdown",
   "id": "7add7ada",
   "metadata": {},
   "source": [
    "# Given a dictionary of student names and grades, find the student with the highest grade."
   ]
  },
  {
   "cell_type": "code",
   "execution_count": 25,
   "id": "495c40ea",
   "metadata": {},
   "outputs": [
    {
     "name": "stdout",
     "output_type": "stream",
     "text": [
      "akash\n"
     ]
    }
   ],
   "source": [
    "# dict_stud1={\"name\":\"akash\",\"grade\":\"A\"}\n",
    "# dict_stud2={\"name\":\"ramesh\",\"grade\":\"C\"}\n",
    "# dict_stud3={\"name\":\"rjesh\",\"grade\":\"F\"}\n",
    "# dict_stud4={\"name\":\"aayush\",\"grade\":\"B\"}\n",
    "# dict_stud5={\"name\":\"rajkumar\",\"grade\":\"E\"}\n",
    "# dict_stud6={\"name\":\"abhishek\",\"grade\":\"c\"}\n",
    "# list1 =[dict_stud1,dict_stud2,dict_stud3,dict_stud4,dict_stud5,dict_stud6]\n",
    "# for i in list1:\n",
    "#     if i[\"grade\"]==\"A\":\n",
    "#         print(i[\"name\"])"
   ]
  },
  {
   "cell_type": "markdown",
   "id": "7a4ce428",
   "metadata": {},
   "source": [
    "# Count the occurrences of each letter in a given word using a dictionary.\n"
   ]
  },
  {
   "cell_type": "code",
   "execution_count": 23,
   "id": "6e50a811",
   "metadata": {},
   "outputs": [
    {
     "name": "stdout",
     "output_type": "stream",
     "text": [
      "{'b': 1, 'a': 3, 'n': 2}\n"
     ]
    }
   ],
   "source": [
    "# word = \"banana\"\n",
    "# counts={}\n",
    "# for i in word:\n",
    "#     if i in counts:\n",
    "#         counts[i]+=1\n",
    "#     else:\n",
    "#         counts[i]=1\n",
    "# print(counts)"
   ]
  },
  {
   "cell_type": "markdown",
   "id": "ad1ae7d4",
   "metadata": {},
   "source": [
    "# Print all key-value pairs in a dictionary sorted by key.\n"
   ]
  },
  {
   "cell_type": "code",
   "execution_count": 47,
   "id": "dd1e0870",
   "metadata": {},
   "outputs": [
    {
     "name": "stdout",
     "output_type": "stream",
     "text": [
      "name : akash\n",
      "age : 19\n",
      "mob_no : 917979785\n",
      "name : akash\n",
      "age : 19\n",
      "mob_no : 917979785\n"
     ]
    }
   ],
   "source": [
    "# dict1={\"name\":\"akash\",\"age\":19,\"mob_no\":917979785}\n",
    "# for i in dict1.items():\n",
    "#     print(i[0],\":\",i[1])\n",
    "# for key,values in dict1.items():\n",
    "#     print(key,\":\",values)"
   ]
  },
  {
   "cell_type": "markdown",
   "id": "a9dcab21",
   "metadata": {},
   "source": [
    "# Update a specific value associated with a key in a dictionary."
   ]
  },
  {
   "cell_type": "code",
   "execution_count": 76,
   "id": "40aefb9c",
   "metadata": {},
   "outputs": [
    {
     "name": "stdout",
     "output_type": "stream",
     "text": [
      "{'name': 'akash', 'age': 19, 'mob_no': 917979785}\n",
      "{'name': 'vikash', 'age': 19, 'mob_no': 917979785}\n"
     ]
    }
   ],
   "source": [
    "# dict1={\"name\":\"akash\",\"age\":19,\"mob_no\":917979785}\n",
    "# print(dict1)\n",
    "# dict1[\"name\"]=\"vikash\"\n",
    "# print(dict1)"
   ]
  },
  {
   "cell_type": "markdown",
   "id": "5a9edbbf",
   "metadata": {},
   "source": [
    "# Merge two dictionaries into one, with duplicate keys handled appropriately.\n"
   ]
  },
  {
   "cell_type": "code",
   "execution_count": 79,
   "id": "5635abf3",
   "metadata": {},
   "outputs": [
    {
     "name": "stdout",
     "output_type": "stream",
     "text": [
      "{'name': 'vikash', 'age': 21, 'mob_no': 94497644}\n",
      "{'name': 'vikash', 'age': 21, 'mob_no': 94497644}\n"
     ]
    }
   ],
   "source": [
    "# dict1={\"name\":\"akash\",\"age\":19,\"mob_no\":917979785}\n",
    "# dict2={\"name\":\"vikash\",\"age\":21,\"mob_no\":94497644}\n",
    "# dict1.update(dict2)\n",
    "# print(dict1)\n",
    "# print(dict2)"
   ]
  },
  {
   "cell_type": "markdown",
   "id": "15397e19",
   "metadata": {},
   "source": [
    "# Check if a specific key exists in a dictionary.\n"
   ]
  },
  {
   "cell_type": "code",
   "execution_count": 49,
   "id": "46212107",
   "metadata": {},
   "outputs": [
    {
     "name": "stdout",
     "output_type": "stream",
     "text": [
      "input de bhai : age\n",
      "yes\n"
     ]
    }
   ],
   "source": [
    "# dict1={\"name\":\"akash\",\"age\":19,\"mob_no\":917979785}\n",
    "# user = input(\"input de bhai : \")\n",
    "# if user in dict1:\n",
    "#     print(\"yes\")\n",
    "# else:\n",
    "#     print(\"no\")"
   ]
  },
  {
   "cell_type": "markdown",
   "id": "8fbdabcd",
   "metadata": {},
   "source": [
    "# Delete a key-value pair from a dictionary based on the key."
   ]
  },
  {
   "cell_type": "code",
   "execution_count": 50,
   "id": "7f66ca5b",
   "metadata": {},
   "outputs": [
    {
     "name": "stdout",
     "output_type": "stream",
     "text": [
      "name is deleted & new dictionary is {'age': 19, 'mob_no': 917979785}\n"
     ]
    }
   ],
   "source": [
    "# dict1={\"name\":\"akash\",\"age\":19,\"mob_no\":917979785}\n",
    "# # using pop method\n",
    "# # dict1.pop(\"name\")\n",
    "# # print(dict1)\n",
    "\n",
    "# # using del method\n",
    "# user = \"name\"\n",
    "# if user in dict1:\n",
    "#     del dict1[user]\n",
    "#     print(f\"{user} is deleted & new dictionary is {dict1}\")\n",
    "# else:\n",
    "#     print(\"not found in dictionary\")"
   ]
  },
  {
   "cell_type": "markdown",
   "id": "2ce0266b",
   "metadata": {},
   "source": [
    "# Create a dictionary from a list of strings, where each string becomes a key and its length becomes the value."
   ]
  },
  {
   "cell_type": "code",
   "execution_count": 70,
   "id": "a7404490",
   "metadata": {},
   "outputs": [
    {
     "name": "stdout",
     "output_type": "stream",
     "text": [
      "{'akash': 5, 'vikash': 6, 'raj': 3, 'rajeshh': 7}\n"
     ]
    }
   ],
   "source": [
    "# list1=[\"akash\",\"vikash\",\"raj\",\"rajeshh\"]\n",
    "# # dict1={i:len(i) for i in list1}\n",
    "# # print(dict1)\n",
    "# dict1={}\n",
    "# for i in list1:\n",
    "#     dict1[i]=len(i)\n",
    "# print(dict1)"
   ]
  },
  {
   "cell_type": "markdown",
   "id": "3c4caa28",
   "metadata": {},
   "source": [
    "# Find the sum of all values in a dictionary that have numeric values. "
   ]
  },
  {
   "cell_type": "code",
   "execution_count": 7,
   "id": "29af0b05",
   "metadata": {},
   "outputs": [
    {
     "name": "stdout",
     "output_type": "stream",
     "text": [
      "Sum: 600\n"
     ]
    }
   ],
   "source": [
    "# my_dict = {'a': 100, 'b': 200, 'c': 300}\n",
    "# total_sum = sum(my_dict.values())\n",
    "# print(f\"Sum: {total_sum}\")"
   ]
  },
  {
   "cell_type": "markdown",
   "id": "de6bf351",
   "metadata": {},
   "source": [
    "# Reverse a dictionary, swapping keys and values to create a new dictionary.\n"
   ]
  },
  {
   "cell_type": "code",
   "execution_count": 119,
   "id": "d68c6223",
   "metadata": {},
   "outputs": [
    {
     "name": "stdout",
     "output_type": "stream",
     "text": [
      "{'apple': 5, 'banana': 6, 'orange': 8, 'kiwi': 4}\n",
      "{5: 'apple', 6: 'banana', 8: 'orange', 4: 'kiwi'}\n"
     ]
    }
   ],
   "source": [
    "original_dict = {'apple': 5, 'banana': 6, 'orange': 8, 'kiwi': 4}\n",
    "reversed_dict ={values:key for key,values in original_dict.items()}\n",
    "print(original_dict)\n",
    "print(reversed_dict)"
   ]
  }
 ],
 "metadata": {
  "kernelspec": {
   "display_name": "Python 3 (ipykernel)",
   "language": "python",
   "name": "python3"
  },
  "language_info": {
   "codemirror_mode": {
    "name": "ipython",
    "version": 3
   },
   "file_extension": ".py",
   "mimetype": "text/x-python",
   "name": "python",
   "nbconvert_exporter": "python",
   "pygments_lexer": "ipython3",
   "version": "3.11.5"
  }
 },
 "nbformat": 4,
 "nbformat_minor": 5
}
