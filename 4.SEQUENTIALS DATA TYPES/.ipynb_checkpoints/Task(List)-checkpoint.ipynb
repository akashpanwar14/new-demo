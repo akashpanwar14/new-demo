{
 "cells": [
  {
   "cell_type": "markdown",
   "id": "faf68486",
   "metadata": {},
   "source": [
    "# Reverse a list and print it:\n",
    "\n",
    "\n",
    "#### Write code that takes a list as input and \n",
    "#### returns a new list with the elements in reverse order.\n",
    "#### Example: Input [1, 4, 2, 5] should output [5, 2, 4, 1].\n"
   ]
  },
  {
   "cell_type": "code",
   "execution_count": 5,
   "id": "63bc8e22",
   "metadata": {},
   "outputs": [
    {
     "name": "stdout",
     "output_type": "stream",
     "text": [
      "[9, 8, 7, 6, 5, 4, 3, 2, 1, 0]\n"
     ]
    }
   ],
   "source": [
    "# list1 =[1,2,3,4,5,6,7,8,9]\n",
    "# list2 =[]\n",
    "# for i in range(len(list1),-1,-1):\n",
    "#     list2.append(i)\n",
    "# print(list2)"
   ]
  },
  {
   "cell_type": "markdown",
   "id": "fd76be2d",
   "metadata": {},
   "source": [
    "# Find the largest and smallest element in a list of numbers:\n",
    "\n",
    "\n",
    "#### Write code that finds the largest and\n",
    "#### smallest numerical values in a given list.\n",
    "#### Example: Input [8, 2, 15, 3, 9] should output Largest: 15, Smallest: 2.\n"
   ]
  },
  {
   "cell_type": "code",
   "execution_count": 15,
   "id": "64b84380",
   "metadata": {},
   "outputs": [
    {
     "name": "stdout",
     "output_type": "stream",
     "text": [
      "largest:10, smallest: 4\n"
     ]
    }
   ],
   "source": [
    "# list1 = [8,6,10,4,6,7]\n",
    "# smallest = largest = list1[0]\n",
    "# for i in list1:\n",
    "#     if i < smallest:\n",
    "#         smallest = i\n",
    "#     elif i>largest:\n",
    "#             largest = i\n",
    "            \n",
    "# print(f\"largest:{largest}, smallest: {smallest}\")"
   ]
  },
  {
   "cell_type": "markdown",
   "id": "0ebf7ae3",
   "metadata": {},
   "source": [
    "# Check if a specific element exists in a list and return its index if found:\n",
    "\n",
    "\n",
    "#### Write code that searches for a given element in a list and\n",
    "#### returns its index if it exists, otherwise returns -1.\n",
    "#### Example: Input my_list = [5, 7, 3, 9] and search_value = 3 should output Index of 3  is :2.\n"
   ]
  },
  {
   "cell_type": "code",
   "execution_count": 16,
   "id": "07698f1a",
   "metadata": {},
   "outputs": [
    {
     "name": "stdout",
     "output_type": "stream",
     "text": [
      "serch index : 2\n",
      "the index is : 1\n"
     ]
    }
   ],
   "source": [
    "# list1=[1,2,5,8,5,44,67,34,96]\n",
    "# user_input=int(input(\"serch index : \"))\n",
    "# for i in range(0,len(list1)):\n",
    "#     if list1[i]==user_input:\n",
    "#         print(f\"the index is : {i}\")"
   ]
  },
  {
   "cell_type": "markdown",
   "id": "8f1f9a49",
   "metadata": {},
   "source": [
    "# Remove all duplicate elements from a list and print the unique elements:\n",
    "\n",
    "#### Write code that removes all duplicates from a \n",
    "#### list, preserving only the unique elements.\n",
    "#### Example: Input [2, 5, 2, 8, 5, 1] should output [2, 5, 8, 1].\n"
   ]
  },
  {
   "cell_type": "code",
   "execution_count": 34,
   "id": "6648bdd9",
   "metadata": {},
   "outputs": [
    {
     "name": "stdout",
     "output_type": "stream",
     "text": [
      "[1, 3, 5, 4, 7, 6, 9]\n"
     ]
    }
   ],
   "source": [
    "# list1 = [1,1,3,5,4,5,7,6,3,9]\n",
    "# unique_list= []\n",
    "# for i in list1:\n",
    "#     if i not in unique_list:\n",
    "#         unique_list.append(i)\n",
    "        \n",
    "# print(unique_list)"
   ]
  },
  {
   "cell_type": "markdown",
   "id": "c7442161",
   "metadata": {},
   "source": [
    "# Merge two lists and sort the combined list in ascending order:\n",
    "#### Write code that takes two lists as input, merges them into a \n",
    "#### single list, and sorts the resulting list in ascending order.\n",
    "#### Example: Input list1 = [3, 1, 5] and list2 = [2, 4, 6] should output [1, 2, 3, 4, 5, 6].\n"
   ]
  },
  {
   "cell_type": "code",
   "execution_count": 6,
   "id": "4de6ff50",
   "metadata": {},
   "outputs": [
    {
     "name": "stdout",
     "output_type": "stream",
     "text": [
      "[1, 2, 3, 4, 6, 7, 8, 9]\n"
     ]
    }
   ],
   "source": [
    "# list1 = [4,3,2,1]\n",
    "# list2 = [9,8,7,6]\n",
    "# list3 = list1+list2\n",
    "# n =len(list3)\n",
    "# for i in range(n):\n",
    "#     for j in range(0,n-i-1):\n",
    "#         if list3[j]>list3[j+1]:\n",
    "#             list3[j],list3[j+1]=list3[j+1],list3[j]\n",
    "# print(list3)"
   ]
  },
  {
   "cell_type": "markdown",
   "id": "c3055714",
   "metadata": {},
   "source": [
    "# Count the occurrences of each element in a list:\n",
    "#### Write code that counts how many times \n",
    "#### each unique element appears in a list.\n",
    "#### Example: Input [\"apple\", \"banana\", \"apple\", \"cherry\", \"banana\"] should\n",
    "#### output apple: 2, banana: 2, cherry: 1.\n"
   ]
  },
  {
   "cell_type": "code",
   "execution_count": 73,
   "id": "1b86a5f7",
   "metadata": {},
   "outputs": [
    {
     "name": "stdout",
     "output_type": "stream",
     "text": [
      "there are 2 apple ,2 banana ,1 cherry\n"
     ]
    }
   ],
   "source": [
    "# list1 = [\"apple\",\"apple\",\"banana\", \"banana\",\"cherry\" ]\n",
    "# apple =0\n",
    "# banana =0\n",
    "# cherry=0\n",
    "# for i in list1:\n",
    "#     if i==\"apple\":\n",
    "#         apple+=1\n",
    "#     elif i==\"banana\":\n",
    "#             banana+=1\n",
    "#     elif i==\"cherry\":\n",
    "#             cherry+=1\n",
    "# print(f\"there are {apple} apple ,{banana} banana ,{cherry} cherry\")\n",
    "    "
   ]
  },
  {
   "cell_type": "code",
   "execution_count": 20,
   "id": "ad61a371",
   "metadata": {},
   "outputs": [
    {
     "name": "stdout",
     "output_type": "stream",
     "text": [
      "apple,2\n",
      "banana,2\n",
      "cherry,1\n",
      "orange,1\n"
     ]
    }
   ],
   "source": [
    "# list1 = [\"apple\", \"banana\", \"apple\", \"cherry\", \"banana\",\"orange\",]\n",
    "# unique_list = []\n",
    "# for i in list1:\n",
    "#     if i not in unique_list:\n",
    "#         unique_list.append(i)\n",
    "# for i in unique_list:\n",
    "#     count = list1.count(i)\n",
    "#     print(f\"{i},{count}\")"
   ]
  },
  {
   "cell_type": "markdown",
   "id": "51165a97",
   "metadata": {},
   "source": [
    "# Split a list into sub-lists of equal size:\n",
    "#### Write code that divides a list into smaller sub-lists of a given size.\n",
    "#### Example: Input my_list = [1, 2, 3, 4, 5, 6, 7, 8] \n",
    "#### and sub_list_size = 3 should output [[1, 2, 3], [4, 5, 6], [7, 8]].\n",
    "\n",
    "\n"
   ]
  },
  {
   "cell_type": "code",
   "execution_count": 23,
   "id": "913390f6",
   "metadata": {},
   "outputs": [
    {
     "name": "stdout",
     "output_type": "stream",
     "text": [
      "[[1, 2, 3], [4, 5, 6], [7, 8]]\n"
     ]
    }
   ],
   "source": [
    "# my_list = [1, 2, 3, 4, 5, 6, 7, 8]\n",
    "# sub_list_size = 3\n",
    "\n",
    "# sub_lists = []\n",
    "\n",
    "# for i in range(0,len(my_list),sub_list_size):\n",
    "#     sub_lists.append(my_list[i:i+sub_list_size])\n",
    "# print(sub_lists)"
   ]
  },
  {
   "cell_type": "markdown",
   "id": "33830ef6",
   "metadata": {},
   "source": [
    "# Find the sum of all elements in a list:\n",
    "#### Write code that calculates the sum of all numerical values in a list.\n",
    "#### Example: Input [5, 10, 2, 8, 1] should output Sum: 26.\n"
   ]
  },
  {
   "cell_type": "code",
   "execution_count": 6,
   "id": "056ed387",
   "metadata": {},
   "outputs": [
    {
     "name": "stdout",
     "output_type": "stream",
     "text": [
      "45\n"
     ]
    }
   ],
   "source": [
    "# list1 = [1,2,3,4,5,6,7,8,9]\n",
    "# sum = 0\n",
    "# for i in list1:\n",
    "#     sum+=i\n",
    "# print(sum)"
   ]
  },
  {
   "cell_type": "markdown",
   "id": "d2723b37",
   "metadata": {},
   "source": [
    "# Rotate the elements of a list by a specified number of positions:\n",
    "#### Write code that shifts the elements of a list to\n",
    "#### the right by a given number of positions.\n",
    "#### Example: Input my_list = [1, 2, 3, 4, 5] and rotate_by = 2 should output [4, 5, 1, 2, 3].\n"
   ]
  },
  {
   "cell_type": "code",
   "execution_count": 37,
   "id": "001497ee",
   "metadata": {},
   "outputs": [],
   "source": [
    "# not done"
   ]
  },
  {
   "cell_type": "markdown",
   "id": "400294ad",
   "metadata": {},
   "source": [
    "# practice quetion\n"
   ]
  },
  {
   "cell_type": "markdown",
   "id": "fc131639",
   "metadata": {},
   "source": [
    "# 1. Create a list with the names of your favorite fruits. Print the list."
   ]
  },
  {
   "cell_type": "code",
   "execution_count": 2,
   "id": "5c0ea8c3",
   "metadata": {},
   "outputs": [
    {
     "name": "stdout",
     "output_type": "stream",
     "text": [
      "['apple', 'grapes', 'orange']\n"
     ]
    }
   ],
   "source": [
    "# list_fruits = [\"apple\",\"grapes\",\"orange\",]\n",
    "# print(list_fruits)"
   ]
  },
  {
   "cell_type": "markdown",
   "id": "5103e9b8",
   "metadata": {},
   "source": [
    "# 2. Given a list of numbers, double each element and print the modified list.\n"
   ]
  },
  {
   "cell_type": "code",
   "execution_count": 5,
   "id": "da2e30f1",
   "metadata": {},
   "outputs": [
    {
     "name": "stdout",
     "output_type": "stream",
     "text": [
      "[2, 4, 6, 8, 10, 12, 14, 16, 18]\n"
     ]
    }
   ],
   "source": [
    "# list_num =[1,2,3,4,5,6,7,8,9]\n",
    "# modified_list =[]\n",
    "# for i in list_num:\n",
    "#     x = i*2\n",
    "#     modified_list.append(x)\n",
    "# print(modified_list)\n",
    "    "
   ]
  },
  {
   "cell_type": "markdown",
   "id": "e90368e4",
   "metadata": {},
   "source": [
    "# 3. Create a list of cities. Print the first and last elements using indexing"
   ]
  },
  {
   "cell_type": "code",
   "execution_count": 14,
   "id": "b1a556ed",
   "metadata": {},
   "outputs": [
    {
     "name": "stdout",
     "output_type": "stream",
     "text": [
      "mumbai\n",
      "jaipur\n"
     ]
    }
   ],
   "source": [
    "# list_cities = [\"mumbai\",\"delhi\",\"indore\",\"jaipur\"]\n",
    "# print(list_cities[0])\n",
    "# print(list_cities[-1])"
   ]
  },
  {
   "cell_type": "markdown",
   "id": "a32025ab",
   "metadata": {},
   "source": [
    "# 4. Generate a list of squares for numbers 1 to 10 using list comprehension. Print the resulting list.\n"
   ]
  },
  {
   "cell_type": "code",
   "execution_count": 24,
   "id": "38a8ac69",
   "metadata": {},
   "outputs": [
    {
     "name": "stdout",
     "output_type": "stream",
     "text": [
      "[1, 4, 9, 16, 25, 36, 49, 64, 81, 100]\n"
     ]
    }
   ],
   "source": [
    "# list1=[1,2,3,4,5,6,7,8,9,10]\n",
    "# list_square=[]\n",
    "# for i in list1:\n",
    "#     i**=2\n",
    "#     list_square.append(i)\n",
    "# print(list_square)"
   ]
  },
  {
   "cell_type": "code",
   "execution_count": 27,
   "id": "28a74c86",
   "metadata": {},
   "outputs": [
    {
     "name": "stdout",
     "output_type": "stream",
     "text": [
      "[1, 4, 9, 16, 25, 36, 49, 64, 81]\n"
     ]
    }
   ],
   "source": [
    "# list1 =[1,2,3,4,5,6,7,8,9]\n",
    "# sqr =[i**2 for i in list1]\n",
    "# print(sqr)"
   ]
  },
  {
   "cell_type": "markdown",
   "id": "97292c62",
   "metadata": {},
   "source": [
    "# 5. Take a list of words and sort them in alphabetical order. Print the sorted list.\n"
   ]
  },
  {
   "cell_type": "code",
   "execution_count": 11,
   "id": "b5074632",
   "metadata": {},
   "outputs": [
    {
     "name": "stdout",
     "output_type": "stream",
     "text": [
      "['a', 'b', 'c', 'e', 'f', 'g']\n"
     ]
    }
   ],
   "source": [
    "# list1 = [\"a\",\"b\",\"e\",\"f\",\"g\",\"c\"]\n",
    "# n =len(list1)\n",
    "# for i in range(n):\n",
    "#     for j in range(0,n-i-1):\n",
    "#         if list1[j]>list1[j+1]:\n",
    "#             list1[j],list1[j+1]=list1[j+1],list1[j]\n",
    "# print(list1)"
   ]
  },
  {
   "cell_type": "markdown",
   "id": "1a0a47ef",
   "metadata": {},
   "source": [
    "# 6. Given a list of ages, filter out the adults (age >= 18). Print the modified list"
   ]
  },
  {
   "cell_type": "code",
   "execution_count": 39,
   "id": "576b37f5",
   "metadata": {},
   "outputs": [
    {
     "name": "stdout",
     "output_type": "stream",
     "text": [
      "[67, 45, 32, 19, 30, 58]\n"
     ]
    }
   ],
   "source": [
    "# list_age =[12,14,16,67,45,32,19,30,11,58]\n",
    "# list_adults =[]\n",
    "# for i in list_age:\n",
    "#     if i>=18:\n",
    "#         list_adults.append(i)\n",
    "        \n",
    "# print(list_adults)"
   ]
  },
  {
   "cell_type": "markdown",
   "id": "ee92a820",
   "metadata": {},
   "source": [
    "# 7. Create two lists of colors and concatenate them. Print the combined list.\n"
   ]
  },
  {
   "cell_type": "code",
   "execution_count": 42,
   "id": "16c3a087",
   "metadata": {},
   "outputs": [
    {
     "name": "stdout",
     "output_type": "stream",
     "text": [
      "['blue', 'yellow', 'gray', 'white', 'red', 'black', 'brown', 'orange']\n"
     ]
    }
   ],
   "source": [
    "# list1 =[\"red\",\"black\",\"brown\",\"orange\"]\n",
    "# list2 =[\"blue\",\"yellow\",\"gray\",\"white\"]\n",
    "# for i in list1:\n",
    "#     list2.append(i)\n",
    "# print(list2)"
   ]
  },
  {
   "cell_type": "code",
   "execution_count": 41,
   "id": "d4fb6548",
   "metadata": {},
   "outputs": [
    {
     "name": "stdout",
     "output_type": "stream",
     "text": [
      "['red', 'black', 'brown', 'orange', 'blue', 'yellow', 'gray', 'white']\n"
     ]
    }
   ],
   "source": [
    "# list1 =[\"red\",\"black\",\"brown\",\"orange\"]\n",
    "# list2 =[\"blue\",\"yellow\",\"gray\",\"white\"]\n",
    "# list3 =list1+list2\n",
    "# print(list3)"
   ]
  },
  {
   "cell_type": "markdown",
   "id": "0b0afb71",
   "metadata": {},
   "source": [
    "# 8. Given a list of animals, remove a specific animal from the list. Print the modified list.\n"
   ]
  },
  {
   "cell_type": "code",
   "execution_count": 53,
   "id": "b32a4033",
   "metadata": {
    "scrolled": true
   },
   "outputs": [
    {
     "name": "stdout",
     "output_type": "stream",
     "text": [
      "remove function : lion\n",
      "['rabbit', 'monkey', 'fox']\n"
     ]
    }
   ],
   "source": [
    "# list_animal = [\"lion\",\"rabbit\",\"monkey\",\"fox\"]\n",
    "# x =input(\"remove function : \")\n",
    "# list_animal.remove(x)\n",
    "# print(list_animal)"
   ]
  },
  {
   "cell_type": "code",
   "execution_count": 43,
   "id": "83b59eae",
   "metadata": {},
   "outputs": [
    {
     "name": "stdout",
     "output_type": "stream",
     "text": [
      "remove function : rabbit\n",
      "['lion', 'monkey', 'fox']\n"
     ]
    }
   ],
   "source": [
    "# list_animal = [\"lion\",\"rabbit\",\"monkey\",\"fox\"]\n",
    "# x =input(\"remove function : \")\n",
    "# list2=[]\n",
    "# for i in list_animal:\n",
    "#     if i==x:\n",
    "#         pass\n",
    "#     else:\n",
    "#         list2.append(i)\n",
    "# print(list2)\n",
    "        "
   ]
  },
  {
   "cell_type": "markdown",
   "id": "9edc3094",
   "metadata": {},
   "source": [
    "# 9. Write a function that takes a list of numbers as input \n",
    "# and returns the sum of the squares of each number."
   ]
  },
  {
   "cell_type": "code",
   "execution_count": 53,
   "id": "cac47ff1",
   "metadata": {},
   "outputs": [
    {
     "name": "stdout",
     "output_type": "stream",
     "text": [
      "1\n",
      "2\n",
      "3\n",
      "4\n",
      "5\n",
      "6\n",
      "7\n",
      "[1, 2, 3, 4, 5, 6, 7]\n",
      "140\n"
     ]
    }
   ],
   "source": [
    "# list1 =[int(input()),int(input()),int(input()),int(input()),int(input()),int(input()),int(input()),]\n",
    "# sum1=0\n",
    "# for i in list1:\n",
    "#     i**=2\n",
    "#     sum1+=i\n",
    "# print(list1)\n",
    "# print(sum1)"
   ]
  },
  {
   "cell_type": "markdown",
   "id": "b30d3613",
   "metadata": {},
   "source": [
    "# 10. Reverse the order of elements in a given list of characters. Print the reversed list.\n"
   ]
  },
  {
   "cell_type": "code",
   "execution_count": 55,
   "id": "0da18bb9",
   "metadata": {},
   "outputs": [
    {
     "name": "stdout",
     "output_type": "stream",
     "text": [
      "[9, 8, 7, 6, 5, 4, 3, 2, 1, 0]\n"
     ]
    }
   ],
   "source": [
    "# list1=[1,2,3,4,5,6,7,8,9]\n",
    "# list1.reverse()\n",
    "# print(list1)"
   ]
  },
  {
   "cell_type": "code",
   "execution_count": 94,
   "id": "8b7728a7",
   "metadata": {},
   "outputs": [
    {
     "name": "stdout",
     "output_type": "stream",
     "text": [
      "[7, 6, 5, 4, 3, 2, 1]\n"
     ]
    }
   ],
   "source": [
    "# list1 = [1,2,3,4,5,6,7]\n",
    "# list2 = []\n",
    "\n",
    "# for i in range(len(list1)-1,-1,-1):\n",
    "#     list2.append(list1[i])\n",
    "    \n",
    "# print(list2)"
   ]
  }
 ],
 "metadata": {
  "kernelspec": {
   "display_name": "Python 3 (ipykernel)",
   "language": "python",
   "name": "python3"
  },
  "language_info": {
   "codemirror_mode": {
    "name": "ipython",
    "version": 3
   },
   "file_extension": ".py",
   "mimetype": "text/x-python",
   "name": "python",
   "nbconvert_exporter": "python",
   "pygments_lexer": "ipython3",
   "version": "3.11.5"
  }
 },
 "nbformat": 4,
 "nbformat_minor": 5
}
