{
 "cells": [
  {
   "cell_type": "markdown",
   "id": "043dc07a",
   "metadata": {},
   "source": [
    "# Practice Questions : \n"
   ]
  },
  {
   "cell_type": "markdown",
   "id": "6f9f2e18",
   "metadata": {},
   "source": [
    "# Given a tuple of fruits, find the ones with more than 5 characters.\n"
   ]
  },
  {
   "cell_type": "code",
   "execution_count": 17,
   "id": "45da5457",
   "metadata": {},
   "outputs": [
    {
     "name": "stdout",
     "output_type": "stream",
     "text": [
      "orange\n",
      "grappes\n",
      "banana\n",
      "pinapple\n"
     ]
    }
   ],
   "source": [
    "# tup = (\"orange\",\"grappes\",\"banana\",\"apple\",\"pinapple\",\"date\",\"fig\")\n",
    "# for i in tup:\n",
    "#     if (len(i)>5):\n",
    "#         print(i)\n"
   ]
  },
  {
   "cell_type": "markdown",
   "id": "087f44b8",
   "metadata": {},
   "source": [
    "# Count the number of times a specific tuple element appears in another tuple.\n"
   ]
  },
  {
   "cell_type": "code",
   "execution_count": 34,
   "id": "546132b2",
   "metadata": {},
   "outputs": [
    {
     "name": "stdout",
     "output_type": "stream",
     "text": [
      "user bhai input de :2\n",
      "9\n"
     ]
    }
   ],
   "source": [
    "# tup = (1,2,3,1,3,2,3,5,4,5,3,7,6,2,2,2,2,2,2,2,8,6,4,7,8,5,3,6,7,8,6,7,5,4,3,5,9,9,)\n",
    "# tup1=()\n",
    "# i = int(input(\"user bhai input de :\"))\n",
    "# count=0\n",
    "# for x in tup:\n",
    "#     if x == i:\n",
    "#         count+=1\n",
    "# print(count)"
   ]
  },
  {
   "cell_type": "markdown",
   "id": "0e43aa75",
   "metadata": {},
   "source": [
    "# DUT Check if a given tuple is a prefix of another tuple."
   ]
  },
  {
   "cell_type": "code",
   "execution_count": 36,
   "id": "dab8a6c8",
   "metadata": {},
   "outputs": [],
   "source": [
    "# # Given tuples\n",
    "# tuple1 = (1, 2, 3)\n",
    "# tuple2 = (1, 2, 3, 4, 5)\n",
    "\n",
    "# # Check if tuple1 is a subset of tuple2\n",
    "# is_subset = all(elem in tuple2 for elem in tuple1)\n",
    "\n",
    "# print(f\"Is tuple1 a subset of tuple2? {is_subset}\")\n"
   ]
  },
  {
   "cell_type": "markdown",
   "id": "761a55b7",
   "metadata": {},
   "source": [
    "#  Extract a specified element from a tuple based on its position.\n"
   ]
  },
  {
   "cell_type": "code",
   "execution_count": 15,
   "id": "42977fe8",
   "metadata": {},
   "outputs": [
    {
     "name": "stdout",
     "output_type": "stream",
     "text": [
      "position u want :2\n",
      "The element at position 2 is: 3\n"
     ]
    }
   ],
   "source": [
    "# tup=(1,2,3,4,5,6)\n",
    "# position = int(input(\"position u want :\"))\n",
    "# x = tup[position]\n",
    "# for i in tup:\n",
    "#     if i==x:\n",
    "#         break\n",
    "# print(f\"The element at position {position} is: {i}\")"
   ]
  },
  {
   "cell_type": "markdown",
   "id": "0b7c4071",
   "metadata": {},
   "source": [
    "# Concatenate two tuples and create a new tuple"
   ]
  },
  {
   "cell_type": "code",
   "execution_count": 58,
   "id": "2ba0eea9",
   "metadata": {},
   "outputs": [
    {
     "name": "stdout",
     "output_type": "stream",
     "text": [
      "(1, 2, 3, 4, 5, 6, 7, 8, 9, 0)\n"
     ]
    }
   ],
   "source": [
    "# tup1 =(1,2,3,4,5)\n",
    "# tup2 =(6,7,8,9,0)\n",
    "# tup3 =tup1 + tup2\n",
    "# print(tup3)"
   ]
  },
  {
   "cell_type": "markdown",
   "id": "48b4c893",
   "metadata": {},
   "source": [
    "# DUT Sort a tuple based on a specific element in each tuple"
   ]
  },
  {
   "cell_type": "code",
   "execution_count": 4,
   "id": "eb5603e1",
   "metadata": {},
   "outputs": [],
   "source": [
    "#  not done"
   ]
  },
  {
   "cell_type": "markdown",
   "id": "f8ac7b7d",
   "metadata": {},
   "source": [
    "# dut Check if all elements in a tuple are of the same data type.\n"
   ]
  },
  {
   "cell_type": "code",
   "execution_count": 30,
   "id": "2323403f",
   "metadata": {},
   "outputs": [],
   "source": [
    "# not done"
   ]
  },
  {
   "cell_type": "markdown",
   "id": "73a6228e",
   "metadata": {},
   "source": [
    "# Find the average of all numerical elements in a tuple"
   ]
  },
  {
   "cell_type": "code",
   "execution_count": 89,
   "id": "be589586",
   "metadata": {},
   "outputs": [
    {
     "name": "stdout",
     "output_type": "stream",
     "text": [
      "the avg. is 9.363636363636363\n"
     ]
    }
   ],
   "source": [
    "# tup = (1,2,3,4,5,56,6,6,7,8,5)\n",
    "# x = len(tup)\n",
    "# sum1=0\n",
    "# for i in tup:\n",
    "#     sum1+=i\n",
    "# print(f\"the avg. is {sum1/x}\")"
   ]
  },
  {
   "cell_type": "code",
   "execution_count": 93,
   "id": "d5527ad1",
   "metadata": {},
   "outputs": [
    {
     "name": "stdout",
     "output_type": "stream",
     "text": [
      "3\n"
     ]
    }
   ],
   "source": [
    "# tup = (1,2,3,4,5,)\n",
    "# x = sum(tup)\n",
    "# y = len(tup)\n",
    "# avg = x//y\n",
    "# print(avg)"
   ]
  },
  {
   "cell_type": "markdown",
   "id": "2bfd89a6",
   "metadata": {},
   "source": [
    "# Convert a tuple into a list and vice versa.\n"
   ]
  },
  {
   "cell_type": "code",
   "execution_count": 97,
   "id": "c30ecf3c",
   "metadata": {},
   "outputs": [
    {
     "name": "stdout",
     "output_type": "stream",
     "text": [
      "<class 'tuple'>\n",
      "[1, 2, 3, 4, 5, 6, 7, 9]\n",
      "<class 'tuple'>\n"
     ]
    }
   ],
   "source": [
    "# tup = (1,2,3,4,5,6,7,9)\n",
    "# print(type(tup))\n",
    "# list1 = list(tup)\n",
    "# print(list1)\n",
    "# tup2 = tuple(list1)\n",
    "# print(tuple)"
   ]
  },
  {
   "cell_type": "markdown",
   "id": "213003d5",
   "metadata": {},
   "source": [
    "# Create a function that returns the first and last element of a tuple as a new tuple."
   ]
  },
  {
   "cell_type": "code",
   "execution_count": 101,
   "id": "99a195cb",
   "metadata": {},
   "outputs": [
    {
     "name": "stdout",
     "output_type": "stream",
     "text": [
      "[1, 90]\n"
     ]
    }
   ],
   "source": [
    "# tup = (1,2,3,4,5,6,78,9,90)\n",
    "# x = tup[0]\n",
    "# y = tup[-1]#len(tup-1)\n",
    "# new_tup = [x,y]\n",
    "# print(new_tup)"
   ]
  }
 ],
 "metadata": {
  "kernelspec": {
   "display_name": "Python 3 (ipykernel)",
   "language": "python",
   "name": "python3"
  },
  "language_info": {
   "codemirror_mode": {
    "name": "ipython",
    "version": 3
   },
   "file_extension": ".py",
   "mimetype": "text/x-python",
   "name": "python",
   "nbconvert_exporter": "python",
   "pygments_lexer": "ipython3",
   "version": "3.11.5"
  }
 },
 "nbformat": 4,
 "nbformat_minor": 5
}
