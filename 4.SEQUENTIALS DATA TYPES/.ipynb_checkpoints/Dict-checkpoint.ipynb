{
 "cells": [
  {
   "cell_type": "code",
   "execution_count": 1,
   "id": "d4e0e3da",
   "metadata": {},
   "outputs": [
    {
     "name": "stdout",
     "output_type": "stream",
     "text": [
      "The 'age' key exists\n",
      "name: Alice\n",
      "age: 31\n",
      "occupation: Software Engineer\n"
     ]
    }
   ],
   "source": [
    "# # Create an empty dictionary\n",
    "# my_dict = {}\n",
    "# # Create a dictionary with key-value pairs\n",
    "# person = {\"name\": \"Alice\", \"age\": 30, \"city\": \"New York\"}\n",
    "# # Accessing values by key\n",
    "# name = person[\"name\"]  # name will be \"Alice\"\n",
    "# # Adding new key-value pairs\n",
    "# person[\"occupation\"] = \"Software Engineer\"\n",
    "# # Modifying existing values\n",
    "# person[\"age\"] = 31\n",
    "# # Removing key-value pairs\n",
    "# del person[\"city\"]\n",
    "# # Checking for key existence\n",
    "# if \"age\" in person:\n",
    "#     print(\"The 'age' key exists\")\n",
    "# # Looping through a dictionary (keys and values)\n",
    "# for key, value in person.items():\n",
    "#     print(f\"{key}: {value}\")"
   ]
  },
  {
   "cell_type": "code",
   "execution_count": 31,
   "id": "68c39ab7",
   "metadata": {},
   "outputs": [
    {
     "name": "stdout",
     "output_type": "stream",
     "text": [
      "akash\n",
      "{'name': 'akash', 'mob_no': 9179909341, 'age': 19, 'bro': 'vikash'}\n"
     ]
    }
   ],
   "source": [
    "# # Adds or updates the value for a specific key.\n",
    "# dict1 = {\"name\":\"akash\",\"mob_no\":9179909341,\"age\":19}\n",
    "# print(dict1[\"name\"])\n",
    "# dict1[\"bro\"]=\"vikash\"\n",
    "# print(dict1)"
   ]
  },
  {
   "cell_type": "code",
   "execution_count": 14,
   "id": "bd384bd0",
   "metadata": {},
   "outputs": [
    {
     "name": "stdout",
     "output_type": "stream",
     "text": [
      "{'name': 'abhi', 'mob_no': 984974797, 'age': 21}\n",
      "{'name': 'abhi', 'mob_no': 984974797, 'age': 21}\n",
      "1610726379584\n",
      "1610726376256\n"
     ]
    }
   ],
   "source": [
    "# dict1={\"name\":\"akash\",\"mob_no\":9179909341,\"age\":19}\n",
    "# dict2={\"name\":\"abhi\",\"mob_no\":984974797,\"age\":21}\n",
    "# dict1.update(dict2)\n",
    "# print(dict1)\n",
    "# print(dict2)\n",
    "# print(id(dict1))\n",
    "# print(id(dict2))"
   ]
  },
  {
   "cell_type": "code",
   "execution_count": 24,
   "id": "01e8a566",
   "metadata": {},
   "outputs": [
    {
     "name": "stdout",
     "output_type": "stream",
     "text": [
      "None\n"
     ]
    }
   ],
   "source": [
    "# dict1={\"name\":\"akash\",\"mob_no\":9179909341,\"age\":19}\n",
    "# dict1.pop(\"name\")\n",
    "# print(dict1.get(\"name\"))"
   ]
  },
  {
   "cell_type": "code",
   "execution_count": 27,
   "id": "a8af6c78",
   "metadata": {},
   "outputs": [
    {
     "ename": "KeyError",
     "evalue": "'nam4324'",
     "output_type": "error",
     "traceback": [
      "\u001b[1;31m---------------------------------------------------------------------------\u001b[0m",
      "\u001b[1;31mKeyError\u001b[0m                                  Traceback (most recent call last)",
      "Cell \u001b[1;32mIn[27], line 2\u001b[0m\n\u001b[0;32m      1\u001b[0m dict1\u001b[38;5;241m=\u001b[39m{\u001b[38;5;124m\"\u001b[39m\u001b[38;5;124mname\u001b[39m\u001b[38;5;124m\"\u001b[39m:\u001b[38;5;124m\"\u001b[39m\u001b[38;5;124makash\u001b[39m\u001b[38;5;124m\"\u001b[39m,\u001b[38;5;124m\"\u001b[39m\u001b[38;5;124mmob_no\u001b[39m\u001b[38;5;124m\"\u001b[39m:\u001b[38;5;241m9179909341\u001b[39m,\u001b[38;5;124m\"\u001b[39m\u001b[38;5;124mage\u001b[39m\u001b[38;5;124m\"\u001b[39m:\u001b[38;5;241m19\u001b[39m}\n\u001b[1;32m----> 2\u001b[0m dict1[\u001b[38;5;124m\"\u001b[39m\u001b[38;5;124mnam4324\u001b[39m\u001b[38;5;124m\"\u001b[39m]\n",
      "\u001b[1;31mKeyError\u001b[0m: 'nam4324'"
     ]
    }
   ],
   "source": [
    "# dict1={\"name\":\"akash\",\"mob_no\":9179909341,\"age\":19}\n",
    "# dict1[\"nam4324\"]"
   ]
  },
  {
   "cell_type": "code",
   "execution_count": 39,
   "id": "255d21f2",
   "metadata": {},
   "outputs": [
    {
     "data": {
      "text/plain": [
       "'akash'"
      ]
     },
     "execution_count": 39,
     "metadata": {},
     "output_type": "execute_result"
    }
   ],
   "source": [
    "dict1={\"name\":\"akash\",\"mob_no\":9179909341,\"age\":19}\n",
    "dict1.get(\"name\")#if not found returns the defaultr value :it not show error"
   ]
  },
  {
   "cell_type": "code",
   "execution_count": 43,
   "id": "d1838396",
   "metadata": {},
   "outputs": [
    {
     "data": {
      "text/plain": [
       "True"
      ]
     },
     "execution_count": 43,
     "metadata": {},
     "output_type": "execute_result"
    }
   ],
   "source": [
    "\"name\" in dict1#return boolean "
   ]
  },
  {
   "cell_type": "code",
   "execution_count": 49,
   "id": "a227dcbe",
   "metadata": {},
   "outputs": [
    {
     "name": "stdout",
     "output_type": "stream",
     "text": [
      "dict_keys(['name', 'mob_no', 'age'])\n",
      "dict_values(['akash', 9179909341, 19])\n"
     ]
    }
   ],
   "source": [
    "# print(dict1.keys())\n",
    "# print(dict1.values())"
   ]
  },
  {
   "cell_type": "code",
   "execution_count": 51,
   "id": "8c9ac0ca",
   "metadata": {},
   "outputs": [
    {
     "data": {
      "text/plain": [
       "dict_items([('name', 'akash'), ('mob_no', 9179909341), ('age', 19)])"
      ]
     },
     "execution_count": 51,
     "metadata": {},
     "output_type": "execute_result"
    }
   ],
   "source": [
    "# dict1.items()"
   ]
  },
  {
   "cell_type": "code",
   "execution_count": 53,
   "id": "626ca7a1",
   "metadata": {},
   "outputs": [
    {
     "data": {
      "text/plain": [
       "{'name': 'akash', 'mob_no': 9179909341, 'age': 19}"
      ]
     },
     "execution_count": 53,
     "metadata": {},
     "output_type": "execute_result"
    }
   ],
   "source": [
    "# dict1.copy()"
   ]
  }
 ],
 "metadata": {
  "kernelspec": {
   "display_name": "Python 3 (ipykernel)",
   "language": "python",
   "name": "python3"
  },
  "language_info": {
   "codemirror_mode": {
    "name": "ipython",
    "version": 3
   },
   "file_extension": ".py",
   "mimetype": "text/x-python",
   "name": "python",
   "nbconvert_exporter": "python",
   "pygments_lexer": "ipython3",
   "version": "3.11.5"
  }
 },
 "nbformat": 4,
 "nbformat_minor": 5
}
