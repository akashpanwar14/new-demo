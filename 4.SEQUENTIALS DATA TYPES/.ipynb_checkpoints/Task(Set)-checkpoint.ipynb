{
 "cells": [
  {
   "cell_type": "markdown",
   "id": "6caca056",
   "metadata": {},
   "source": [
    "# Find the union and intersection of two sets."
   ]
  },
  {
   "cell_type": "code",
   "execution_count": 29,
   "id": "4ccd6d6f",
   "metadata": {},
   "outputs": [
    {
     "name": "stdout",
     "output_type": "stream",
     "text": [
      "{1, 2, 3, 4, 5, 6, 7, 8, 9, 10}\n",
      "{5, 6}\n"
     ]
    }
   ],
   "source": [
    "# set1 = {1,2,3,4,5,6}\n",
    "# set2 = {5,6,7,8,9,10}\n",
    "# print(set1.union(set2))\n",
    "# print(set1.intersection(set2))"
   ]
  },
  {
   "cell_type": "code",
   "execution_count": 31,
   "id": "794b9261",
   "metadata": {},
   "outputs": [
    {
     "name": "stdout",
     "output_type": "stream",
     "text": [
      "{5, 6}\n",
      "{1, 2, 3, 4, 5, 6, 7, 8, 9, 10}\n"
     ]
    }
   ],
   "source": [
    "# set1 = {1,2,3,4,5,6}\n",
    "# set2 = {5,6,7,8,9,10}\n",
    "# set3 =set()\n",
    "# set4 =set()\n",
    "# for i in set1:\n",
    "#     if i in set2:\n",
    "#         set3.add(i)\n",
    "        \n",
    "        \n",
    "# for i in set1:\n",
    "#     set4.add(i)\n",
    "\n",
    "# for i in set2:\n",
    "#     set4.add(i)\n",
    "\n",
    "# print(set3)\n",
    "# print(set4)"
   ]
  },
  {
   "cell_type": "markdown",
   "id": "39b6a6fa",
   "metadata": {},
   "source": [
    "# Remove all elements from a set that are present in another set.\n"
   ]
  },
  {
   "cell_type": "code",
   "execution_count": 40,
   "id": "426abc39",
   "metadata": {},
   "outputs": [
    {
     "name": "stdout",
     "output_type": "stream",
     "text": [
      "{3, 4, 5, 6, 7}\n"
     ]
    }
   ],
   "source": [
    "# set1 = {1,2,3,4,5,5,6,5,7}\n",
    "# set2 = {1,2}\n",
    "# set3 = set()\n",
    "\n",
    "# for i in set1:\n",
    "#     if i not in set2:\n",
    "#         set3.add(i)\n",
    "# print(set3)"
   ]
  },
  {
   "cell_type": "markdown",
   "id": "6d329cb4",
   "metadata": {},
   "source": [
    "# Check if two sets are disjoint (no elements in common)"
   ]
  },
  {
   "cell_type": "code",
   "execution_count": 2,
   "id": "cf7a9099",
   "metadata": {},
   "outputs": [
    {
     "name": "stdout",
     "output_type": "stream",
     "text": [
      "no common elements\n"
     ]
    }
   ],
   "source": [
    "# set1 = {1,2,3,4,5,6}\n",
    "# set2 = {7,8,9,0}\n",
    "\n",
    "# for i in set1:\n",
    "#     if i not in set2:\n",
    "#         check = True\n",
    "#     else:\n",
    "#         check = False\n",
    "# if check  == True:\n",
    "#     print(\"no common elements\")\n",
    "# else:\n",
    "#     print(\"have common elements\")"
   ]
  },
  {
   "cell_type": "markdown",
   "id": "0c6fe1d1",
   "metadata": {},
   "source": [
    "# Generate a set of unique numbers from a list with duplicates\n",
    "\n"
   ]
  },
  {
   "cell_type": "code",
   "execution_count": 3,
   "id": "3f078d57",
   "metadata": {},
   "outputs": [
    {
     "name": "stdout",
     "output_type": "stream",
     "text": [
      "{32, 1, 2, 3, 4, 5, 6, 7, 9, 78}\n"
     ]
    }
   ],
   "source": [
    "# list1 =[1,2,3,4,5,6,78,9,7,5,4,32,2,1,]\n",
    "# set2 = set()\n",
    "# for i in list1:\n",
    "#     if i not in set2:\n",
    "#         set2.add(i)\n",
    "# print(set2)\n",
    "\n",
    "            "
   ]
  },
  {
   "cell_type": "markdown",
   "id": "ea89758b",
   "metadata": {},
   "source": [
    "# Write a program to find the symmetric difference of two sets"
   ]
  },
  {
   "cell_type": "code",
   "execution_count": 91,
   "id": "7c4ff500",
   "metadata": {},
   "outputs": [
    {
     "name": "stdout",
     "output_type": "stream",
     "text": [
      "{0, 1, 3, 5, 6, 8, 9}\n"
     ]
    }
   ],
   "source": [
    "# set1 = {1,2,3,4,5,6,7}\n",
    "# set2 = {2,4,7,8,9,0}\n",
    "# sym_def = set()\n",
    "# # ans = 1,3,5,6,8,9,0\n",
    "# for i in set1:\n",
    "#     if i not in set2:\n",
    "#         sym_def.add(i)\n",
    "# for i in set2:\n",
    "#     if i not in set1:\n",
    "#         sym_def.add(i)\n",
    "# print(sym_def)"
   ]
  },
  {
   "cell_type": "markdown",
   "id": "b1edc930",
   "metadata": {},
   "source": [
    "# Count the number of elements in a set"
   ]
  },
  {
   "cell_type": "code",
   "execution_count": 99,
   "id": "fb646256",
   "metadata": {},
   "outputs": [
    {
     "name": "stdout",
     "output_type": "stream",
     "text": [
      "10\n",
      "{0, 1, 2, 3, 4, 5, 6, 7, 8, 9}\n",
      "10\n"
     ]
    }
   ],
   "source": [
    "# set1={1,2,3,4,5,6,7,8,9,0,3,4,5,3,2}\n",
    "# count =0\n",
    "# for i in set1:\n",
    "#     count+=1\n",
    "# print(count)\n",
    "# print(set1)\n",
    "# print(len(set1))"
   ]
  },
  {
   "cell_type": "markdown",
   "id": "ffb16c49",
   "metadata": {},
   "source": [
    "# Check if a specific element is present in a set\n"
   ]
  },
  {
   "cell_type": "code",
   "execution_count": 155,
   "id": "5e9d59aa",
   "metadata": {},
   "outputs": [],
   "source": [
    "# set1 ={1,2,3,4,5,8}\n",
    "# num = 1\n",
    "# check=False\n",
    "# for i in set1:\n",
    "#     if i == num:\n",
    "#         check = True\n",
    "#         break\n",
    "        \n",
    "# if check:\n",
    "#     print(f\"the number {num} is prsent in set1 \")\n",
    "# else:\n",
    "#     print(f\"the number {num} is not in set1\")"
   ]
  },
  {
   "cell_type": "markdown",
   "id": "79d1bd84",
   "metadata": {},
   "source": [
    "# Remove all elements smaller than a given value from a set.\n"
   ]
  },
  {
   "cell_type": "code",
   "execution_count": 7,
   "id": "0a254a82",
   "metadata": {},
   "outputs": [
    {
     "name": "stdout",
     "output_type": "stream",
     "text": [
      "{8, 9, 6, 7}\n"
     ]
    }
   ],
   "source": [
    "# set1 = {1,2,3,4,0,0,0,0,0,5,6,7,8,9,0}\n",
    "# remove =5\n",
    "# set2 =set()\n",
    "# for i in set1:\n",
    "#     if i>remove:\n",
    "#         set2.add(i)\n",
    "# print(set2)"
   ]
  },
  {
   "cell_type": "markdown",
   "id": "92c11fa8",
   "metadata": {},
   "source": [
    "# Find the subset of one set that is present in another set"
   ]
  },
  {
   "cell_type": "code",
   "execution_count": 12,
   "id": "d8ef4712",
   "metadata": {},
   "outputs": [
    {
     "name": "stdout",
     "output_type": "stream",
     "text": [
      "yes\n"
     ]
    }
   ],
   "source": [
    "# set1 = {1,2,3,4,5}\n",
    "# sub_set ={1,5,3}\n",
    "# check = True\n",
    "# for i in sub_set:\n",
    "#     if i not in set1:\n",
    "#         check = False\n",
    "#         break\n",
    "# if check:\n",
    "#     print(\"yes\")\n",
    "# else:\n",
    "#     print(\"no\")\n",
    "                "
   ]
  },
  {
   "cell_type": "markdown",
   "id": "0eb84e02",
   "metadata": {},
   "source": [
    "# Implement a basic dictionary using sets and functions (key-value pairs and lookups)\n",
    "\n"
   ]
  },
  {
   "cell_type": "code",
   "execution_count": 2,
   "id": "339f5538",
   "metadata": {},
   "outputs": [],
   "source": [
    "# not done"
   ]
  }
 ],
 "metadata": {
  "kernelspec": {
   "display_name": "Python 3 (ipykernel)",
   "language": "python",
   "name": "python3"
  },
  "language_info": {
   "codemirror_mode": {
    "name": "ipython",
    "version": 3
   },
   "file_extension": ".py",
   "mimetype": "text/x-python",
   "name": "python",
   "nbconvert_exporter": "python",
   "pygments_lexer": "ipython3",
   "version": "3.11.5"
  }
 },
 "nbformat": 4,
 "nbformat_minor": 5
}
