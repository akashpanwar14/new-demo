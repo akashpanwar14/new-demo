{
 "cells": [
  {
   "cell_type": "code",
   "execution_count": 1,
   "id": "62ebb8fe",
   "metadata": {},
   "outputs": [
    {
     "name": "stdout",
     "output_type": "stream",
     "text": [
      "The letter 'o' is in the string\n"
     ]
    }
   ],
   "source": [
    "my_string = \"Hello, world!\"\n",
    "# Accessing characters\n",
    "first_char = my_string[0]  # 'H'\n",
    "last_char = my_string[-1]  # '!'\n",
    "# Slicing\n",
    "substring = my_string[7:12]  # \"world\"\n",
    "# String concatenation\n",
    "full_name = \"Alice \" + \"Bob\"\n",
    "# String formatting with f-strings\n",
    "age = 30\n",
    "message = f\"My name is {full_name} and I am {age} years old.\"\n",
    "# Checking for characters\n",
    "if \"o\" in my_string:\n",
    "    print(\"The letter 'o' is in the string\")\n"
   ]
  },
  {
   "cell_type": "code",
   "execution_count": null,
   "id": "8c1781b9",
   "metadata": {},
   "outputs": [],
   "source": []
  }
 ],
 "metadata": {
  "kernelspec": {
   "display_name": "Python 3 (ipykernel)",
   "language": "python",
   "name": "python3"
  },
  "language_info": {
   "codemirror_mode": {
    "name": "ipython",
    "version": 3
   },
   "file_extension": ".py",
   "mimetype": "text/x-python",
   "name": "python",
   "nbconvert_exporter": "python",
   "pygments_lexer": "ipython3",
   "version": "3.11.5"
  }
 },
 "nbformat": 4,
 "nbformat_minor": 5
}
